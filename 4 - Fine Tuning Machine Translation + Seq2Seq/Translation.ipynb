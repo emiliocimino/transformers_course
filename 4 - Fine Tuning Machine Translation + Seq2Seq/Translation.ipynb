{
 "cells": [
  {
   "cell_type": "markdown",
   "id": "8f7d6c4c-8714-419d-81a7-10a66c44aae9",
   "metadata": {},
   "source": [
    "# Machine Translation with Opus"
   ]
  },
  {
   "cell_type": "markdown",
   "id": "ec0cacba-f419-4125-849a-9f164d052127",
   "metadata": {},
   "source": [
    "## Data"
   ]
  },
  {
   "cell_type": "code",
   "execution_count": 1,
   "id": "231bbec0-cdfe-4906-9621-e751ec1de818",
   "metadata": {},
   "outputs": [],
   "source": [
    "# !pip install transformers, sentencepiece, datasets"
   ]
  },
  {
   "cell_type": "code",
   "execution_count": 2,
   "id": "4623cbe6-f429-4a20-ad57-71b925431954",
   "metadata": {},
   "outputs": [
    {
     "name": "stderr",
     "output_type": "stream",
     "text": [
      "C:\\Users\\emili\\Desktop\\transformers_course\\transformers-env\\Lib\\site-packages\\tqdm\\auto.py:21: TqdmWarning: IProgress not found. Please update jupyter and ipywidgets. See https://ipywidgets.readthedocs.io/en/stable/user_install.html\n",
      "  from .autonotebook import tqdm as notebook_tqdm\n"
     ]
    }
   ],
   "source": [
    "from datasets import load_dataset"
   ]
  },
  {
   "cell_type": "code",
   "execution_count": 3,
   "id": "ebf2a092-dbf7-42ae-bd0c-30bfdf97548d",
   "metadata": {},
   "outputs": [],
   "source": [
    "lan_1 = \"en\"\n",
    "lan_2 = \"it\""
   ]
  },
  {
   "cell_type": "code",
   "execution_count": 4,
   "id": "6cabd915-d105-47d1-9b85-ac2652c53870",
   "metadata": {},
   "outputs": [
    {
     "data": {
      "text/plain": [
       "DatasetDict({\n",
       "    train: Dataset({\n",
       "        features: ['id', 'translation'],\n",
       "        num_rows: 220566\n",
       "    })\n",
       "})"
      ]
     },
     "execution_count": 4,
     "metadata": {},
     "output_type": "execute_result"
    }
   ],
   "source": [
    "data = load_dataset(\"kde4\", lang1=lan_1, lang2=lan_2, trust_remote_code=True)\n",
    "data"
   ]
  },
  {
   "cell_type": "code",
   "execution_count": 5,
   "id": "dac72415-5557-45a9-ae25-b8e3f0012d77",
   "metadata": {},
   "outputs": [],
   "source": [
    "# Selezioniamo 10000 campioni random\n",
    "small = data[\"train\"].shuffle(seed=42).select(range(1000))"
   ]
  },
  {
   "cell_type": "code",
   "execution_count": 6,
   "id": "78333247-573e-46bd-a73c-2afb4504935b",
   "metadata": {},
   "outputs": [],
   "source": [
    "split = small.train_test_split(seed=42, test_size=0.3)"
   ]
  },
  {
   "cell_type": "code",
   "execution_count": 7,
   "id": "4e16f12c-f32d-4339-8612-cf8b379863c9",
   "metadata": {},
   "outputs": [
    {
     "data": {
      "text/plain": [
       "DatasetDict({\n",
       "    train: Dataset({\n",
       "        features: ['id', 'translation'],\n",
       "        num_rows: 700\n",
       "    })\n",
       "    test: Dataset({\n",
       "        features: ['id', 'translation'],\n",
       "        num_rows: 300\n",
       "    })\n",
       "})"
      ]
     },
     "execution_count": 7,
     "metadata": {},
     "output_type": "execute_result"
    }
   ],
   "source": [
    "split"
   ]
  },
  {
   "cell_type": "markdown",
   "id": "73cd05f4-db9c-4718-9dd0-f3846bfef41f",
   "metadata": {},
   "source": [
    "## Tokenizer\n",
    "\n",
    "Il tokenizer qui ha una funzione diversa. Oltre a dover tokenizzare l'input, deve tokenizzare anche il target, in quanto abbiamo due sequenze di parole. Una cosa importante è che il tokenizer usa due API diverse per tokenizzare il primo linguaggio ed il secondo, per questo motivo è molto importante selezionare il checkpoint ed assicurarsi che si usino correttamente le api.\n",
    "\n",
    "Inoltre, essendo basato su un modello diverso, usa token speciali e modalità di tokenizzazione differenti rispetto a BERT.\n",
    "\n",
    "Per tokenizzare il secondo linguaggio usare: tokenizer(text_target=\"Testo inserito\")"
   ]
  },
  {
   "cell_type": "code",
   "execution_count": 8,
   "id": "3de88665-8387-4f90-a49a-5814c26a9d24",
   "metadata": {},
   "outputs": [],
   "source": [
    "from transformers import AutoTokenizer"
   ]
  },
  {
   "cell_type": "code",
   "execution_count": 9,
   "id": "45c72e9b-adce-4738-aac2-3ab843315511",
   "metadata": {},
   "outputs": [
    {
     "name": "stderr",
     "output_type": "stream",
     "text": [
      "C:\\Users\\emili\\Desktop\\transformers_course\\transformers-env\\Lib\\site-packages\\transformers\\models\\marian\\tokenization_marian.py:175: UserWarning: Recommended: pip install sacremoses.\n",
      "  warnings.warn(\"Recommended: pip install sacremoses.\")\n",
      "C:\\Users\\emili\\Desktop\\transformers_course\\transformers-env\\Lib\\site-packages\\transformers\\tokenization_utils_base.py:1617: FutureWarning: `clean_up_tokenization_spaces` was not set. It will be set to `True` by default. This behavior will be deprecated in transformers v4.45, and will be then set to `False` by default. For more details check this issue: https://github.com/huggingface/transformers/issues/31884\n",
      "  warnings.warn(\n"
     ]
    }
   ],
   "source": [
    "checkpoint = f\"Helsinki-nlp/opus-mt-{lan_1}-{lan_2}\"\n",
    "tokenizer = AutoTokenizer.from_pretrained(checkpoint)"
   ]
  },
  {
   "cell_type": "code",
   "execution_count": 10,
   "id": "f3de8b02-b15b-499f-ad0f-e0e57a85c80b",
   "metadata": {},
   "outputs": [
    {
     "data": {
      "text/plain": [
       "('Using the metadata plugin Import function allows to copy data from one image to another. Select the image you want ot copy to in the main application. Then call the import function, which will open a file browser where you select the source image (the one you want to copy the metadata from). Click OK and the data will be copied over.',\n",
       " \"Usare la funzione Importa del plugin per i dati aggiuntivi permette di copiare dati da un' immagine all' altra. Seleziona l' immagine che vuoi copiare nell' applicazione principale. Quindi, chiama la funzione di importazione, che aprirà un browser di file dal quale potrai selezionare l' immagine sorgente (quella da cui vuoi copiare i dati aggiuntivi). Fai clic su OK e i dati saranno copiati.\")"
      ]
     },
     "execution_count": 10,
     "metadata": {},
     "output_type": "execute_result"
    }
   ],
   "source": [
    "example_idx = 100\n",
    "en = split[\"train\"][example_idx][\"translation\"][lan_1]\n",
    "it = split[\"train\"][example_idx][\"translation\"][lan_2]\n",
    "en, it"
   ]
  },
  {
   "cell_type": "code",
   "execution_count": 11,
   "id": "ac2567ef-dc4f-476b-9ff3-00cce57bbf6a",
   "metadata": {},
   "outputs": [
    {
     "data": {
      "text/plain": [
       "({'input_ids': [5285, 68, 4, 38872, 8985, 124, 12241, 3942, 2899, 11, 6272, 381, 67, 133, 3149, 11, 928, 2, 7027, 4, 3149, 29, 342, 28014, 6272, 11, 7, 4, 1165, 1082, 2, 1703, 1125, 4, 4619, 3942, 3, 101, 105, 1009, 9, 396, 2346, 3157, 122, 328, 29, 5190, 4, 4017, 3149, 25, 660, 133, 29, 342, 11, 6272, 4, 38872, 67, 140, 93, 3476, 16, 3297, 13, 4, 381, 105, 44, 475, 1162, 102, 362, 2, 0], 'attention_mask': [1, 1, 1, 1, 1, 1, 1, 1, 1, 1, 1, 1, 1, 1, 1, 1, 1, 1, 1, 1, 1, 1, 1, 1, 1, 1, 1, 1, 1, 1, 1, 1, 1, 1, 1, 1, 1, 1, 1, 1, 1, 1, 1, 1, 1, 1, 1, 1, 1, 1, 1, 1, 1, 1, 1, 1, 1, 1, 1, 1, 1, 1, 1, 1, 1, 1, 1, 1, 1, 1, 1, 1, 1, 1, 1, 1, 1]},\n",
       " {'input_ids': [9666, 51, 15, 2376, 12241, 34, 26, 228, 1234, 176, 124, 20, 39, 589, 12332, 2248, 6, 6616, 51, 589, 52, 23, 5, 6520, 57, 5, 5183, 2, 136, 125, 4374, 35, 5, 6520, 17, 1524, 6616, 51, 272, 5, 1843, 1839, 2, 1433, 3, 2577, 15, 2376, 6, 13661, 3, 17, 7759, 755, 23, 3286, 497, 1566, 6, 396, 135, 723, 421, 832, 30, 10050, 35, 5, 6520, 13472, 25, 1431, 440, 52, 143, 1524, 6616, 51, 39, 589, 12332, 140, 795, 30, 6152, 128, 92, 781, 10, 39, 589, 1325, 6616, 116, 2, 0], 'attention_mask': [1, 1, 1, 1, 1, 1, 1, 1, 1, 1, 1, 1, 1, 1, 1, 1, 1, 1, 1, 1, 1, 1, 1, 1, 1, 1, 1, 1, 1, 1, 1, 1, 1, 1, 1, 1, 1, 1, 1, 1, 1, 1, 1, 1, 1, 1, 1, 1, 1, 1, 1, 1, 1, 1, 1, 1, 1, 1, 1, 1, 1, 1, 1, 1, 1, 1, 1, 1, 1, 1, 1, 1, 1, 1, 1, 1, 1, 1, 1, 1, 1, 1, 1, 1, 1, 1, 1, 1, 1, 1, 1, 1, 1, 1, 1, 1]})"
      ]
     },
     "execution_count": 11,
     "metadata": {},
     "output_type": "execute_result"
    }
   ],
   "source": [
    "inputs = tokenizer(en)\n",
    "targets = tokenizer(text_target=it)\n",
    "inputs, targets"
   ]
  },
  {
   "cell_type": "code",
   "execution_count": 12,
   "id": "f8d1399c-ff02-451b-a671-4858384d4339",
   "metadata": {},
   "outputs": [
    {
     "data": {
      "text/plain": [
       "(['▁Us',\n",
       "  'ing',\n",
       "  '▁the',\n",
       "  '▁metadata',\n",
       "  '▁plug',\n",
       "  'in',\n",
       "  '▁Import',\n",
       "  '▁function',\n",
       "  '▁allows',\n",
       "  '▁to',\n",
       "  '▁copy',\n",
       "  '▁data',\n",
       "  '▁from',\n",
       "  '▁one',\n",
       "  '▁image',\n",
       "  '▁to',\n",
       "  '▁another',\n",
       "  '.',\n",
       "  '▁Select',\n",
       "  '▁the',\n",
       "  '▁image',\n",
       "  '▁you',\n",
       "  '▁want',\n",
       "  '▁ot',\n",
       "  '▁copy',\n",
       "  '▁to',\n",
       "  '▁in',\n",
       "  '▁the',\n",
       "  '▁main',\n",
       "  '▁application',\n",
       "  '.',\n",
       "  '▁Then',\n",
       "  '▁call',\n",
       "  '▁the',\n",
       "  '▁import',\n",
       "  '▁function',\n",
       "  ',',\n",
       "  '▁which',\n",
       "  '▁will',\n",
       "  '▁open',\n",
       "  '▁a',\n",
       "  '▁file',\n",
       "  '▁br',\n",
       "  'ows',\n",
       "  'er',\n",
       "  '▁where',\n",
       "  '▁you',\n",
       "  '▁select',\n",
       "  '▁the',\n",
       "  '▁source',\n",
       "  '▁image',\n",
       "  '▁(',\n",
       "  'the',\n",
       "  '▁one',\n",
       "  '▁you',\n",
       "  '▁want',\n",
       "  '▁to',\n",
       "  '▁copy',\n",
       "  '▁the',\n",
       "  '▁metadata',\n",
       "  '▁from',\n",
       "  ').',\n",
       "  '▁C',\n",
       "  'lick',\n",
       "  '▁',\n",
       "  'OK',\n",
       "  '▁and',\n",
       "  '▁the',\n",
       "  '▁data',\n",
       "  '▁will',\n",
       "  '▁be',\n",
       "  '▁co',\n",
       "  'pi',\n",
       "  'ed',\n",
       "  '▁over',\n",
       "  '.',\n",
       "  '</s>'],\n",
       " ['▁Usa',\n",
       "  're',\n",
       "  '▁la',\n",
       "  '▁funzione',\n",
       "  '▁Import',\n",
       "  'a',\n",
       "  '▁del',\n",
       "  '▁p',\n",
       "  'lu',\n",
       "  'g',\n",
       "  'in',\n",
       "  '▁per',\n",
       "  '▁i',\n",
       "  '▁dati',\n",
       "  '▁aggiuntivi',\n",
       "  '▁permette',\n",
       "  '▁di',\n",
       "  '▁copia',\n",
       "  're',\n",
       "  '▁dati',\n",
       "  '▁da',\n",
       "  '▁un',\n",
       "  \"'\",\n",
       "  '▁immagine',\n",
       "  '▁all',\n",
       "  \"'\",\n",
       "  '▁altra',\n",
       "  '.',\n",
       "  '▁Se',\n",
       "  'le',\n",
       "  'ziona',\n",
       "  '▁l',\n",
       "  \"'\",\n",
       "  '▁immagine',\n",
       "  '▁che',\n",
       "  '▁vuoi',\n",
       "  '▁copia',\n",
       "  're',\n",
       "  '▁nell',\n",
       "  \"'\",\n",
       "  '▁applicazione',\n",
       "  '▁principale',\n",
       "  '.',\n",
       "  '▁Quindi',\n",
       "  ',',\n",
       "  '▁chiama',\n",
       "  '▁la',\n",
       "  '▁funzione',\n",
       "  '▁di',\n",
       "  '▁importazione',\n",
       "  ',',\n",
       "  '▁che',\n",
       "  '▁apri',\n",
       "  'rà',\n",
       "  '▁un',\n",
       "  '▁bro',\n",
       "  'w',\n",
       "  'ser',\n",
       "  '▁di',\n",
       "  '▁file',\n",
       "  '▁dal',\n",
       "  '▁quale',\n",
       "  '▁po',\n",
       "  'tra',\n",
       "  'i',\n",
       "  '▁selezionare',\n",
       "  '▁l',\n",
       "  \"'\",\n",
       "  '▁immagine',\n",
       "  '▁sorgente',\n",
       "  '▁(',\n",
       "  'que',\n",
       "  'lla',\n",
       "  '▁da',\n",
       "  '▁cui',\n",
       "  '▁vuoi',\n",
       "  '▁copia',\n",
       "  're',\n",
       "  '▁i',\n",
       "  '▁dati',\n",
       "  '▁aggiuntivi',\n",
       "  ').',\n",
       "  '▁Fa',\n",
       "  'i',\n",
       "  '▁clic',\n",
       "  '▁su',\n",
       "  '▁O',\n",
       "  'K',\n",
       "  '▁e',\n",
       "  '▁i',\n",
       "  '▁dati',\n",
       "  '▁saranno',\n",
       "  '▁copia',\n",
       "  'ti',\n",
       "  '.',\n",
       "  '</s>'])"
      ]
     },
     "execution_count": 12,
     "metadata": {},
     "output_type": "execute_result"
    }
   ],
   "source": [
    "print(tokenizer.convert_ids_to_tokens(inputs[\"input_ids\"]), tokenizer.convert_ids_to_tokens(targets[\"input_ids\"]))"
   ]
  },
  {
   "cell_type": "markdown",
   "id": "34f0dc60-bf7e-4841-a107-c52fa94aac40",
   "metadata": {},
   "source": [
    "## Model Inputs\n",
    "\n",
    "Per fare il training di un modello seq2seq, dobbiamo avere diversi \"input\". Come input non intendiamo solamente i token della frase che vogliamo tradurre, ma anche i token che devono essere immessi all'interno del decoder. \n",
    "\n",
    "Durante in training, infatti, l'encoder \"codifica\" la frase in ingresso nel linguaggio 1 in una rappresentazione che viene chiamata \"vettore di pensiero\". Questo vettore entra in ingresso nel decoder. Tuttavia, il decoder funziona in maniera diversa rispetto all'encoder: il suo scopo è unicamente generare testo dal nulla e un decoder viene addestrato usando una frase come target e la sua versione shiftata indietro come input.\n",
    "\n",
    "Per fare il fine tuning di un modello di traduzione, abbiamo bisogno di fornire entrambi gli input al modello. Sia i token della frase nel linguaggio 1 per l'encoder, sia i token della frase shiftata.\n",
    "\n",
    "Per questo motivo il **Data Collator** si occuperà di generare quelli che sono i \"decoder_ids\"."
   ]
  },
  {
   "cell_type": "code",
   "execution_count": 13,
   "id": "cdbaab2d-959c-4bad-9729-f52adcaad044",
   "metadata": {},
   "outputs": [],
   "source": [
    "import matplotlib.pyplot as plt"
   ]
  },
  {
   "cell_type": "code",
   "execution_count": 14,
   "id": "b50dadf7-5e55-4804-948a-859563bfe39a",
   "metadata": {},
   "outputs": [],
   "source": [
    "# Occupiamoci di trovare la lunghezza media delle traduzioni\n",
    "train = split[\"train\"][\"translation\"]\n",
    "input_lens = [len(t[lan_1]) for t in train]"
   ]
  },
  {
   "cell_type": "code",
   "execution_count": 15,
   "id": "78308d79-d172-4e8b-bde6-e5ac5e93e065",
   "metadata": {},
   "outputs": [
    {
     "data": {
      "image/png": "[encoded data removed]",
      "text/plain": [
       "<Figure size 640x480 with 1 Axes>"
      ]
     },
     "metadata": {},
     "output_type": "display_data"
    }
   ],
   "source": [
    "plt.hist(input_lens, bins=50);"
   ]
  },
  {
   "cell_type": "code",
   "execution_count": 16,
   "id": "2f35a8df-cfa2-4580-a0fc-c9d3bc72ffe0",
   "metadata": {},
   "outputs": [
    {
     "data": {
      "image/png": "[encoded data removed]",
      "text/plain": [
       "<Figure size 640x480 with 1 Axes>"
      ]
     },
     "metadata": {},
     "output_type": "display_data"
    }
   ],
   "source": [
    "target_lens = [len(t[lan_2]) for t in train]\n",
    "plt.hist(target_lens, bins=50);"
   ]
  },
  {
   "cell_type": "code",
   "execution_count": 17,
   "id": "1e79cadb-33bc-4b94-9bb4-e7ad80bd6482",
   "metadata": {},
   "outputs": [],
   "source": [
    "max_input_len = 128\n",
    "max_target_len = 128"
   ]
  },
  {
   "cell_type": "code",
   "execution_count": 18,
   "id": "232e124b-ffa2-4a62-be64-d78d427b54af",
   "metadata": {},
   "outputs": [],
   "source": [
    "def tokenizer_fn(batch):\n",
    "    \n",
    "    inputs = [x[lan_1] for x in batch[\"translation\"]]\n",
    "    targets = [x[lan_2] for x in batch[\"translation\"]]\n",
    "\n",
    "    tokenized_input = tokenizer(inputs, max_length=max_input_len, truncation=True)\n",
    "    tokenized_target = tokenizer(text_target=targets, max_length=max_target_len, truncation=True)\n",
    "\n",
    "    tokenized_input[\"labels\"] = tokenized_target[\"input_ids\"]\n",
    "    return tokenized_input"
   ]
  },
  {
   "cell_type": "code",
   "execution_count": 19,
   "id": "433f737c-3762-4e3f-a5f9-44701c6cb0ea",
   "metadata": {},
   "outputs": [
    {
     "name": "stderr",
     "output_type": "stream",
     "text": [
      "Map: 100%|██████████████████████████████████████████████████████████████████| 700/700 [00:00<00:00, 7342.51 examples/s]\n",
      "Map: 100%|██████████████████████████████████████████████████████████████████| 300/300 [00:00<00:00, 6839.91 examples/s]\n"
     ]
    }
   ],
   "source": [
    "tokenized_dataset = split.map(tokenizer_fn, batched=True, remove_columns=split[\"train\"].column_names)"
   ]
  },
  {
   "cell_type": "code",
   "execution_count": 20,
   "id": "32816adf-b8a4-48fe-821c-5b128f4f157c",
   "metadata": {},
   "outputs": [],
   "source": [
    "# Seq2Seq for Language Model -> LM indica come funziona il decoder\n",
    "from transformers import AutoModelForSeq2SeqLM\n",
    "from transformers import DataCollatorForSeq2Seq"
   ]
  },
  {
   "cell_type": "code",
   "execution_count": 21,
   "id": "9904e13e-60f9-434a-ad52-42c8981d61e8",
   "metadata": {},
   "outputs": [],
   "source": [
    "model = AutoModelForSeq2SeqLM.from_pretrained(checkpoint)"
   ]
  },
  {
   "cell_type": "code",
   "execution_count": 22,
   "id": "112877b4-0b50-4717-a7b3-267b8aea68e1",
   "metadata": {},
   "outputs": [],
   "source": [
    "data_collator = DataCollatorForSeq2Seq(tokenizer, model=model)"
   ]
  },
  {
   "cell_type": "code",
   "execution_count": 23,
   "id": "ee47e8a1-58e9-431f-931a-81b8d3df0f94",
   "metadata": {},
   "outputs": [
    {
     "data": {
      "text/plain": [
       "dict_keys(['input_ids', 'attention_mask', 'labels', 'decoder_input_ids'])"
      ]
     },
     "execution_count": 23,
     "metadata": {},
     "output_type": "execute_result"
    }
   ],
   "source": [
    "# Ora esploriamo un po'.\n",
    "samples = [tokenized_dataset[\"train\"][i] for i in range(3)]\n",
    "batch = data_collator(samples)\n",
    "batch.keys()"
   ]
  },
  {
   "cell_type": "code",
   "execution_count": 24,
   "id": "aca9b78a-c5cc-44a4-a191-59dc34aed352",
   "metadata": {},
   "outputs": [
    {
     "data": {
      "text/plain": [
       "tensor([[  220,  3111,    34, 11777,  8086,     2,     2,     2,     0,  -100,\n",
       "          -100,  -100,  -100,  -100,  -100,  -100,  -100],\n",
       "        [  136,    32, 20556,   668,    31,    30,  7819,    23,   836,   396,\n",
       "           131, 13829, 18557,   233,  4602,     2,     0],\n",
       "        [   79,   297,   197,   896, 11669,     0,  -100,  -100,  -100,  -100,\n",
       "          -100,  -100,  -100,  -100,  -100,  -100,  -100]])"
      ]
     },
     "execution_count": 24,
     "metadata": {},
     "output_type": "execute_result"
    }
   ],
   "source": [
    "batch[\"labels\"]"
   ]
  },
  {
   "cell_type": "code",
   "execution_count": 25,
   "id": "08648fdf-410e-49be-bbce-929100440d28",
   "metadata": {},
   "outputs": [
    {
     "data": {
      "text/plain": [
       "tensor([[80034,   220,  3111,    34, 11777,  8086,     2,     2,     2,     0,\n",
       "         80034, 80034, 80034, 80034, 80034, 80034, 80034],\n",
       "        [80034,   136,    32, 20556,   668,    31,    30,  7819,    23,   836,\n",
       "           396,   131, 13829, 18557,   233,  4602,     2],\n",
       "        [80034,    79,   297,   197,   896, 11669,     0, 80034, 80034, 80034,\n",
       "         80034, 80034, 80034, 80034, 80034, 80034, 80034]])"
      ]
     },
     "execution_count": 25,
     "metadata": {},
     "output_type": "execute_result"
    }
   ],
   "source": [
    "# Possiamo notare che il token 80034 è il token di padding, usato come start del decoder ID\n",
    "# Possiamo anche vedere come questo output sia lo shift del \"label\" di una posizione\n",
    "batch[\"decoder_input_ids\"]"
   ]
  },
  {
   "cell_type": "markdown",
   "id": "93aab6f4-3cab-4a31-a9ba-b52fe7675469",
   "metadata": {},
   "source": [
    "## Metrics\n",
    "\n",
    "A differenza di altri task, dove le metriche sono ben precise la predizione è catalogabile come corretta o sbagliata, nella traduzione la valutazione di un risultato può essere abbastanza complessa. Questo avviene perchè a differenza di task come POS e NER, possono esiste diverse versioni di traduzione letterale, tuttavia la correttezza dipende da diversi fattori, come il contesto in cui si parla. \n",
    "Un altro caso è l'esistenza di parole che sono sinonimi. Ci sono diverse parole che possono essere ok in una traduzione, a differenza delle regole precise della classificazione.\n",
    "\n",
    "Una delle metriche è il BLEU score, che valuta diversi n-grammi (sequenze di parole) dando un punteggio, da 0 a 1, rispetto alla correttezza.  In precedenza abbiamo usato la libreria nltk per fare queste valutazioni, ma esiste una libreria che supera alcune limitazioni, che è sacrebleu.\n",
    "\n",
    "Un altra metrica interessante è il BERT score. Paradossalmente, usa un altro modello (BERT) che genera degli embedding di contesto, ovvero dei vettori. Questi vettori vengono comparati usando la cosine-similarity. Si crea, dopo di che, una matrice di confronto tra il target e la predizione, si prende riga per riga il valore massimo di ogni accostamento e si calcola un punteggio come \"punteggio massimosu riga\" over \"totale punteggio della riga\"."
   ]
  },
  {
   "cell_type": "code",
   "execution_count": 26,
   "id": "ae3b1a5c-20f8-4a90-b9a5-f4617608724c",
   "metadata": {},
   "outputs": [],
   "source": [
    "from evaluate import load\n",
    "import numpy as np"
   ]
  },
  {
   "cell_type": "code",
   "execution_count": 27,
   "id": "b7049cd1-6870-40a7-a133-8fdc72e6ee6c",
   "metadata": {},
   "outputs": [],
   "source": [
    "bleu_metric = load(\"sacrebleu\")\n",
    "bert_metric = load(\"bertscore\")"
   ]
  },
  {
   "cell_type": "code",
   "execution_count": 28,
   "id": "a67f84fa-750c-4e19-a011-a8dba9ffec2b",
   "metadata": {},
   "outputs": [
    {
     "data": {
      "text/plain": [
       "{'score': 0.0,\n",
       " 'counts': [2, 0, 0, 0],\n",
       " 'totals': [3, 2, 1, 0],\n",
       " 'precisions': [66.66666666666667, 25.0, 25.0, 0.0],\n",
       " 'bp': 1.0,\n",
       " 'sys_len': 3,\n",
       " 'ref_len': 3}"
      ]
     },
     "execution_count": 28,
     "metadata": {},
     "output_type": "execute_result"
    }
   ],
   "source": [
    "bleu_metric.compute(predictions=[\"I love cats\"], references=[[\"I like cats\"]])"
   ]
  },
  {
   "cell_type": "code",
   "execution_count": 29,
   "id": "849397e6-a085-4685-a21a-04efffc89cb4",
   "metadata": {},
   "outputs": [
    {
     "data": {
      "text/plain": [
       "{'score': 100.00000000000004,\n",
       " 'counts': [12, 11, 10, 9],\n",
       " 'totals': [12, 11, 10, 9],\n",
       " 'precisions': [100.0, 100.0, 100.0, 100.0],\n",
       " 'bp': 1.0,\n",
       " 'sys_len': 12,\n",
       " 'ref_len': 12}"
      ]
     },
     "execution_count": 29,
     "metadata": {},
     "output_type": "execute_result"
    }
   ],
   "source": [
    "s = \"Marian is an efficient NMT framework written in pure C++\"\n",
    "bleu_metric.compute(predictions=[s], references=[[s]])"
   ]
  },
  {
   "cell_type": "code",
   "execution_count": 30,
   "id": "f618a292-15bf-491b-8e62-66348c5debaa",
   "metadata": {},
   "outputs": [
    {
     "name": "stderr",
     "output_type": "stream",
     "text": [
      "C:\\Users\\emili\\Desktop\\transformers_course\\transformers-env\\Lib\\site-packages\\transformers\\tokenization_utils_base.py:1617: FutureWarning: `clean_up_tokenization_spaces` was not set. It will be set to `True` by default. This behavior will be deprecated in transformers v4.45, and will be then set to `False` by default. For more details check this issue: https://github.com/huggingface/transformers/issues/31884\n",
      "  warnings.warn(\n",
      "Some weights of RobertaModel were not initialized from the model checkpoint at roberta-large and are newly initialized: ['roberta.pooler.dense.bias', 'roberta.pooler.dense.weight']\n",
      "You should probably TRAIN this model on a down-stream task to be able to use it for predictions and inference.\n",
      "C:\\Users\\emili\\Desktop\\transformers_course\\transformers-env\\Lib\\site-packages\\transformers\\models\\roberta\\modeling_roberta.py:370: UserWarning: 1Torch was not compiled with flash attention. (Triggered internally at C:\\actions-runner\\_work\\pytorch\\pytorch\\builder\\windows\\pytorch\\aten\\src\\ATen\\native\\transformers\\cuda\\sdp_utils.cpp:555.)\n",
      "  attn_output = torch.nn.functional.scaled_dot_product_attention(\n"
     ]
    },
    {
     "data": {
      "text/plain": [
       "{'precision': [0.9803368449211121],\n",
       " 'recall': [0.9803368449211121],\n",
       " 'f1': [0.9803368449211121],\n",
       " 'hashcode': 'roberta-large_L17_no-idf_version=0.3.12(hug_trans=4.45.1)'}"
      ]
     },
     "execution_count": 30,
     "metadata": {},
     "output_type": "execute_result"
    }
   ],
   "source": [
    "bert_metric.compute(predictions=[\"I love cats\"], references=[[\"I like cats\"]], lang=lan_1)"
   ]
  },
  {
   "cell_type": "code",
   "execution_count": 31,
   "id": "21cf95b8-9f9c-4ac4-b6d7-c82f184925b9",
   "metadata": {},
   "outputs": [],
   "source": [
    "\"\"\"\n",
    "Digressione: in teoria, il nostro machine learning model restituisce sempre dei logits. Tuttavia, risalire alla predizione con un logit\n",
    "diventa molto più complesso nel caso della machine translation a differenza di quanto fatto con NER, POS e sentiment analysis. Ci vuole\n",
    "un algoritmo più potente, il beam search, che ti permette di risalire poi alla predizione. Noi, tuttavia, stiamo semplificando un po' le cose: stiamo\n",
    "lasciando ad un modello di machine learning (in coda al modello di linguaggio) l'onere di fornirci direttamente il token id, noi ci limitiamo\n",
    "a tirare fuori le metriche su questo aspetto.\n",
    "\"\"\"\n",
    "\n",
    "def compute_metrics(preds_and_labels):\n",
    "    # qui le predizioni non sono logits, ma token ids\n",
    "    preds, labels = preds_and_labels\n",
    "    \n",
    "    # convertiamo le predizioni e le label in parole\n",
    "    # NB: qui il tokenizer sa riconoscere il linguaggio automaticamente.\n",
    "    decoded_preds = tokenizer.batch_decode(preds, skip_special_tokens=True)\n",
    "    # Qui usiamo np.where per cercare nell'array labels, ovunque la label sia -100. Con il terzo valore facciamo un replace con il pad token\n",
    "    labels = np.where(labels != -100, labels, tokenizer.pad_token_id)\n",
    "    decoded_labels = tokenizer.batch_decode(labels, skip_special_tokens=True)\n",
    "\n",
    "    # Eliminiamo spazi estra, creiamo le liste di predizioni e le liste di liste di labels per\n",
    "    decoded_preds = [pred.strip() for pred in decoded_preds]\n",
    "    decoded_labels = [[label.strip()] for label in decoded_labels]\n",
    "\n",
    "    bleu = bleu_metric.compute(predictions=decoded_preds, references=decoded_labels)\n",
    "    bert_score = bert_metric.compute(predictions=decoded_preds, references=decoded_labels, lang=lan_2)\n",
    "\n",
    "    return {\"bleu\": bleu[\"score\"], \"bert_score\":np.mean(bert_score[\"f1\"])}"
   ]
  },
  {
   "cell_type": "markdown",
   "id": "3b0e2220-747c-4269-b25c-4c16d64dccf4",
   "metadata": {},
   "source": [
    "## Trainer e Training Arguments"
   ]
  },
  {
   "cell_type": "code",
   "execution_count": 41,
   "id": "da2026a6-65cc-47d6-9485-bbb87e790a0e",
   "metadata": {},
   "outputs": [],
   "source": [
    "from transformers import Seq2SeqTrainer, Seq2SeqTrainingArguments"
   ]
  },
  {
   "cell_type": "code",
   "execution_count": 42,
   "id": "a7592eeb-4547-4097-9747-210fda84a58c",
   "metadata": {},
   "outputs": [],
   "source": [
    "training_args = Seq2SeqTrainingArguments(\n",
    "    \"finetuned_ita_model\",\n",
    "    eval_strategy=\"no\", #Faremo la valutazione manualmente, è molto time-consuming. Le predizioni sono MOLTO costose.\n",
    "    save_strategy=\"epoch\",\n",
    "    learning_rate=2e-5,\n",
    "    per_device_train_batch_size=32,\n",
    "    per_device_eval_batch_size=64,\n",
    "    weight_decay=0.01,\n",
    "    save_total_limit=3,\n",
    "    num_train_epochs=3,\n",
    "    predict_with_generate=True, # In fase di evaluation, predice le frasi per intero (non step by step confrontando con il ground truth)\n",
    "    fp16=True # Settiamo la precisione a virgola mobile a mezza precisione, per risparmiare memoria di GPU\n",
    ")"
   ]
  },
  {
   "cell_type": "code",
   "execution_count": 43,
   "id": "7fae0198-df69-4036-877e-05c85f7c2bfb",
   "metadata": {},
   "outputs": [],
   "source": [
    "trainer = Seq2SeqTrainer(\n",
    "    model=model,\n",
    "    args=training_args,\n",
    "    train_dataset=tokenized_dataset[\"train\"],\n",
    "    eval_dataset=tokenized_dataset[\"test\"],\n",
    "    tokenizer=tokenizer,\n",
    "    data_collator=data_collator,\n",
    "    compute_metrics=compute_metrics\n",
    ")\n"
   ]
  },
  {
   "cell_type": "code",
   "execution_count": 44,
   "id": "04b8bfc7-a466-4e81-bf8a-720443c4ccc0",
   "metadata": {},
   "outputs": [
    {
     "data": {
      "text/html": [
       "\n",
       "    <div>\n",
       "      \n",
       "      <progress value='10' max='5' style='width:300px; height:20px; vertical-align: middle;'></progress>\n",
       "      [5/5 13:07]\n",
       "    </div>\n",
       "    "
      ],
      "text/plain": [
       "<IPython.core.display.HTML object>"
      ]
     },
     "metadata": {},
     "output_type": "display_data"
    },
    {
     "data": {
      "text/plain": [
       "{'eval_loss': 1.1357285976409912,\n",
       " 'eval_model_preparation_time': 0.002,\n",
       " 'eval_bleu': 45.62311555307732,\n",
       " 'eval_bert_score': 0.8735449284315109,\n",
       " 'eval_runtime': 319.2803,\n",
       " 'eval_samples_per_second': 0.94,\n",
       " 'eval_steps_per_second': 0.016}"
      ]
     },
     "execution_count": 44,
     "metadata": {},
     "output_type": "execute_result"
    }
   ],
   "source": [
    "# Valutazione pre fine-tuning:\n",
    "trainer.evaluate(max_length=max_target_len)"
   ]
  },
  {
   "cell_type": "code",
   "execution_count": 45,
   "id": "d4ec7377-05b3-47ce-ac06-bb1c3f5595b3",
   "metadata": {},
   "outputs": [
    {
     "data": {
      "text/html": [
       "\n",
       "    <div>\n",
       "      \n",
       "      <progress value='66' max='66' style='width:300px; height:20px; vertical-align: middle;'></progress>\n",
       "      [66/66 03:40, Epoch 3/3]\n",
       "    </div>\n",
       "    <table border=\"1\" class=\"dataframe\">\n",
       "  <thead>\n",
       " <tr style=\"text-align: left;\">\n",
       "      <th>Step</th>\n",
       "      <th>Training Loss</th>\n",
       "    </tr>\n",
       "  </thead>\n",
       "  <tbody>\n",
       "  </tbody>\n",
       "</table><p>"
      ],
      "text/plain": [
       "<IPython.core.display.HTML object>"
      ]
     },
     "metadata": {},
     "output_type": "display_data"
    },
    {
     "data": {
      "text/plain": [
       "TrainOutput(global_step=66, training_loss=0.7773808566006747, metrics={'train_runtime': 224.0581, 'train_samples_per_second': 9.373, 'train_steps_per_second': 0.295, 'total_flos': 46860252217344.0, 'train_loss': 0.7773808566006747, 'epoch': 3.0})"
      ]
     },
     "execution_count": 45,
     "metadata": {},
     "output_type": "execute_result"
    }
   ],
   "source": [
    "# Ora speriamo di reggere\n",
    "trainer.train()"
   ]
  },
  {
   "cell_type": "code",
   "execution_count": 46,
   "id": "7f8d97f5-a882-48cf-9a27-de6f5e61a6e5",
   "metadata": {},
   "outputs": [
    {
     "data": {
      "text/plain": [
       "{'eval_loss': 1.1513553857803345,\n",
       " 'eval_model_preparation_time': 0.002,\n",
       " 'eval_bleu': 45.41266516647311,\n",
       " 'eval_bert_score': 0.8748539902766546,\n",
       " 'eval_runtime': 288.7122,\n",
       " 'eval_samples_per_second': 1.039,\n",
       " 'eval_steps_per_second': 0.017,\n",
       " 'epoch': 3.0}"
      ]
     },
     "execution_count": 46,
     "metadata": {},
     "output_type": "execute_result"
    }
   ],
   "source": [
    "trainer.evaluate(max_length=max_target_len)"
   ]
  },
  {
   "cell_type": "code",
   "execution_count": 47,
   "id": "db0a32cb-a2e0-4b52-b67e-114eebf0ee14",
   "metadata": {},
   "outputs": [],
   "source": [
    "trainer.save_model(\"my_eng_ita_model\")"
   ]
  },
  {
   "cell_type": "markdown",
   "id": "7522642e-8d33-46d1-aef3-d18e4d8ef9dc",
   "metadata": {},
   "source": [
    "## Inferenza"
   ]
  },
  {
   "cell_type": "code",
   "execution_count": 48,
   "id": "e207f84c-166b-461c-8ce9-7a8a5ac45ecf",
   "metadata": {},
   "outputs": [],
   "source": [
    "from transformers import pipeline"
   ]
  },
  {
   "cell_type": "code",
   "execution_count": 49,
   "id": "12b5b506-a185-4630-90e0-9ce8215e9ed0",
   "metadata": {},
   "outputs": [
    {
     "name": "stderr",
     "output_type": "stream",
     "text": [
      "C:\\Users\\emili\\Desktop\\transformers_course\\transformers-env\\Lib\\site-packages\\transformers\\models\\marian\\tokenization_marian.py:175: UserWarning: Recommended: pip install sacremoses.\n",
      "  warnings.warn(\"Recommended: pip install sacremoses.\")\n"
     ]
    }
   ],
   "source": [
    "translator = pipeline(\"translation\", model=\"my_eng_ita_model\", device=0)"
   ]
  },
  {
   "cell_type": "code",
   "execution_count": 60,
   "id": "9ce4258d-9e1d-48e9-b4dd-74065159cb4f",
   "metadata": {},
   "outputs": [],
   "source": [
    "def translate(sentence):\n",
    "    return translator(sentence)[0][\"translation_text\"]"
   ]
  },
  {
   "cell_type": "code",
   "execution_count": 79,
   "id": "70a83e0e-190e-4036-9766-dc83441fb0a1",
   "metadata": {},
   "outputs": [
    {
     "data": {
      "text/plain": [
       "\"Spero che il mio modello sia stato correttamente perfezionato e in grado di tradurre perfettamente dall'inglese all'italiano!\""
      ]
     },
     "execution_count": 79,
     "metadata": {},
     "output_type": "execute_result"
    }
   ],
   "source": [
    "translate(\"I hope my model was correctly finetuned and able to translate from english to italian perfectly!\")"
   ]
  },
  {
   "cell_type": "code",
   "execution_count": null,
   "id": "717e9a8c-fd59-4975-8f77-e820d2af5d86",
   "metadata": {},
   "outputs": [],
   "source": []
  }
 ],
 "metadata": {
  "kernelspec": {
   "display_name": "transformer-env",
   "language": "python",
   "name": "transformer-env"
  },
  "language_info": {
   "codemirror_mode": {
    "name": "ipython",
    "version": 3
   },
   "file_extension": ".py",
   "mimetype": "text/x-python",
   "name": "python",
   "nbconvert_exporter": "python",
   "pygments_lexer": "ipython3",
   "version": "3.12.5"
  }
 },
 "nbformat": 4,
 "nbformat_minor": 5
}
