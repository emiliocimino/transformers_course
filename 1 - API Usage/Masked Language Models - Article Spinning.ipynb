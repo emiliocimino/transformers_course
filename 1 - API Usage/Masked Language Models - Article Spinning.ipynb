{
 "cells": [
  {
   "cell_type": "code",
   "execution_count": 3,
   "id": "07a4e3cb-615d-4fcf-8302-f7150a0c2583",
   "metadata": {},
   "outputs": [
    {
     "name": "stderr",
     "output_type": "stream",
     "text": [
      "  % Total    % Received % Xferd  Average Speed   Time    Time     Time  Current\n",
      "                                 Dload  Upload   Total   Spent    Left  Speed\n",
      "\n",
      "  0     0    0     0    0     0      0      0 --:--:-- --:--:-- --:--:--     0\n",
      "  0     0    0     0    0     0      0      0 --:--:--  0:00:01 --:--:--     0\n",
      "  1 4965k    1 79894    0     0  48411      0  0:01:45  0:00:01  0:01:44 48479\n",
      "100 4965k  100 4965k    0     0  2007k      0  0:00:02  0:00:02 --:--:-- 2009k\n"
     ]
    }
   ],
   "source": [
    "# Attenzione al significato di masking: non è la masked relevance matrix dell'attention mechanism, ma si tratta di modelli\n",
    "# in grado di sostituire una parola \"taggata\" prendendo informazioni dal concetto circostante.\n",
    "# Il concetto è simile a quello di un de-noising autoencoder.\n",
    "!curl -o \"data/bbc_text_cls.csv\" \"https://lazyprogrammer.me/course_files/nlp/bbc_text_cls.csv\""
   ]
  },
  {
   "cell_type": "code",
   "execution_count": 4,
   "id": "5e0fd40e-8850-4835-85fe-bd6a1a19ff96",
   "metadata": {},
   "outputs": [
    {
     "name": "stderr",
     "output_type": "stream",
     "text": [
      "C:\\Users\\emili\\Desktop\\transformers_course\\transformers-env\\Lib\\site-packages\\tqdm\\auto.py:21: TqdmWarning: IProgress not found. Please update jupyter and ipywidgets. See https://ipywidgets.readthedocs.io/en/stable/user_install.html\n",
      "  from .autonotebook import tqdm as notebook_tqdm\n"
     ]
    }
   ],
   "source": [
    "import numpy as np\n",
    "import pandas as pd\n",
    "import textwrap\n",
    "\n",
    "from pprint import pprint\n",
    "from transformers import pipeline"
   ]
  },
  {
   "cell_type": "code",
   "execution_count": 5,
   "id": "13b8f283-b96d-4433-b06b-0bd01b04aefe",
   "metadata": {},
   "outputs": [],
   "source": [
    "df = pd.read_csv(\"data/bbc_text_cls.csv\")"
   ]
  },
  {
   "cell_type": "code",
   "execution_count": 6,
   "id": "abf7116e-284a-4931-9bbc-b23aece601e3",
   "metadata": {},
   "outputs": [
    {
     "data": {
      "text/html": [
       "<div>\n",
       "<style scoped>\n",
       "    .dataframe tbody tr th:only-of-type {\n",
       "        vertical-align: middle;\n",
       "    }\n",
       "\n",
       "    .dataframe tbody tr th {\n",
       "        vertical-align: top;\n",
       "    }\n",
       "\n",
       "    .dataframe thead th {\n",
       "        text-align: right;\n",
       "    }\n",
       "</style>\n",
       "<table border=\"1\" class=\"dataframe\">\n",
       "  <thead>\n",
       "    <tr style=\"text-align: right;\">\n",
       "      <th></th>\n",
       "      <th>text</th>\n",
       "      <th>labels</th>\n",
       "    </tr>\n",
       "  </thead>\n",
       "  <tbody>\n",
       "    <tr>\n",
       "      <th>0</th>\n",
       "      <td>Ad sales boost Time Warner profit\\n\\nQuarterly...</td>\n",
       "      <td>business</td>\n",
       "    </tr>\n",
       "    <tr>\n",
       "      <th>1</th>\n",
       "      <td>Dollar gains on Greenspan speech\\n\\nThe dollar...</td>\n",
       "      <td>business</td>\n",
       "    </tr>\n",
       "    <tr>\n",
       "      <th>2</th>\n",
       "      <td>Yukos unit buyer faces loan claim\\n\\nThe owner...</td>\n",
       "      <td>business</td>\n",
       "    </tr>\n",
       "    <tr>\n",
       "      <th>3</th>\n",
       "      <td>High fuel prices hit BA's profits\\n\\nBritish A...</td>\n",
       "      <td>business</td>\n",
       "    </tr>\n",
       "    <tr>\n",
       "      <th>4</th>\n",
       "      <td>Pernod takeover talk lifts Domecq\\n\\nShares in...</td>\n",
       "      <td>business</td>\n",
       "    </tr>\n",
       "  </tbody>\n",
       "</table>\n",
       "</div>"
      ],
      "text/plain": [
       "                                                text    labels\n",
       "0  Ad sales boost Time Warner profit\\n\\nQuarterly...  business\n",
       "1  Dollar gains on Greenspan speech\\n\\nThe dollar...  business\n",
       "2  Yukos unit buyer faces loan claim\\n\\nThe owner...  business\n",
       "3  High fuel prices hit BA's profits\\n\\nBritish A...  business\n",
       "4  Pernod takeover talk lifts Domecq\\n\\nShares in...  business"
      ]
     },
     "execution_count": 6,
     "metadata": {},
     "output_type": "execute_result"
    }
   ],
   "source": [
    "df.head()"
   ]
  },
  {
   "cell_type": "code",
   "execution_count": 8,
   "id": "9fb0503a-d661-4afc-986a-fb1c0fcc4866",
   "metadata": {},
   "outputs": [
    {
     "data": {
      "text/plain": [
       "{'business', 'entertainment', 'politics', 'sport', 'tech'}"
      ]
     },
     "execution_count": 8,
     "metadata": {},
     "output_type": "execute_result"
    }
   ],
   "source": [
    "labels = set(df[\"labels\"])\n",
    "labels"
   ]
  },
  {
   "cell_type": "code",
   "execution_count": 10,
   "id": "359e4a09-d6f1-4f36-9f8e-a596868fa481",
   "metadata": {},
   "outputs": [
    {
     "data": {
      "text/plain": [
       "0    Ad sales boost Time Warner profit\\n\\nQuarterly...\n",
       "1    Dollar gains on Greenspan speech\\n\\nThe dollar...\n",
       "2    Yukos unit buyer faces loan claim\\n\\nThe owner...\n",
       "3    High fuel prices hit BA's profits\\n\\nBritish A...\n",
       "4    Pernod takeover talk lifts Domecq\\n\\nShares in...\n",
       "Name: text, dtype: object"
      ]
     },
     "execution_count": 10,
     "metadata": {},
     "output_type": "execute_result"
    }
   ],
   "source": [
    "label = \"business\"\n",
    "texts = df[df.labels == label][\"text\"]\n",
    "texts.head()"
   ]
  },
  {
   "cell_type": "code",
   "execution_count": 11,
   "id": "288af410-9a5e-4c26-8d06-b3b42c9397fd",
   "metadata": {},
   "outputs": [],
   "source": [
    "np.random.seed(1234)"
   ]
  },
  {
   "cell_type": "code",
   "execution_count": 12,
   "id": "55f10d05-0924-4f14-b3b6-98e041a88f97",
   "metadata": {},
   "outputs": [],
   "source": [
    "i = np.random.choice(texts.shape[0])"
   ]
  },
  {
   "cell_type": "code",
   "execution_count": 13,
   "id": "c43e61b6-3b04-44db-aca3-c9eed723036e",
   "metadata": {},
   "outputs": [],
   "source": [
    "doc = texts.iloc[i]"
   ]
  },
  {
   "cell_type": "code",
   "execution_count": 15,
   "id": "28ca4d54-f086-4d51-9deb-30bbfe2885bf",
   "metadata": {},
   "outputs": [
    {
     "name": "stdout",
     "output_type": "stream",
     "text": [
      "Bombardier chief to leave company\n",
      "\n",
      "Shares in train and plane-making\n",
      "giant Bombardier have fallen to a 10-year low following the departure\n",
      "of its chief executive and two members of the board.\n",
      "\n",
      "Paul Tellier,\n",
      "who was also Bombardier's president, left the company amid an ongoing\n",
      "restructuring.  Laurent Beaudoin, part of the family that controls the\n",
      "Montreal-based firm, will take on the role of CEO under a newly\n",
      "created management structure.  Analysts said the resignations seem to\n",
      "have stemmed from a boardroom dispute.  Under Mr Tellier's tenure at\n",
      "the company, which began in January 2003, plans to cut the worldwide\n",
      "workforce of 75,000 by almost a third by 2006 were announced.  The\n",
      "firm's snowmobile division and defence services unit were also sold\n",
      "and Bombardier started the development of a new aircraft seating 110\n",
      "to 135 passengers.\n",
      "\n",
      "Mr Tellier had indicated he wanted to stay at the\n",
      "world's top train maker and third largest manufacturer of civil\n",
      "aircraft until the restructuring was complete.  But Bombardier has\n",
      "been faced with a declining share price and profits.  Earlier this\n",
      "month the firm said it earned $10m (£19.2m) in the third quarter, down\n",
      "from a profit of $133m a year ago.  \"I understand the board's concern\n",
      "that I would not be there for the long-term and the need to develop\n",
      "and execute strategies, and the need to reshape the management\n",
      "structure at this time,\" Mr Tellier said in a statement on Monday.\n",
      "Bombardier said restructuring plans drawn up by Mr Tellier's would\n",
      "continue to be implemented.  Shares in Bombardier lost 65 Canadian\n",
      "cents or 25% on the news to 1.90 Canadian dollars before rallying to\n",
      "2.20 Canadian dollars.\n"
     ]
    }
   ],
   "source": [
    "print(textwrap.fill(doc, replace_whitespace=False, fix_sentence_endings=True))"
   ]
  },
  {
   "cell_type": "code",
   "execution_count": 17,
   "id": "9e89f896-0151-4ace-bf23-209fdb795c04",
   "metadata": {},
   "outputs": [
    {
     "name": "stderr",
     "output_type": "stream",
     "text": [
      "No model was supplied, defaulted to distilbert/distilroberta-base and revision fb53ab8 (https://huggingface.co/distilbert/distilroberta-base).\n",
      "Using a pipeline without specifying a model name and revision in production is not recommended.\n",
      "Some weights of the model checkpoint at distilbert/distilroberta-base were not used when initializing RobertaForMaskedLM: ['roberta.pooler.dense.bias', 'roberta.pooler.dense.weight']\n",
      "- This IS expected if you are initializing RobertaForMaskedLM from the checkpoint of a model trained on another task or with another architecture (e.g. initializing a BertForSequenceClassification model from a BertForPreTraining model).\n",
      "- This IS NOT expected if you are initializing RobertaForMaskedLM from the checkpoint of a model that you expect to be exactly identical (initializing a BertForSequenceClassification model from a BertForSequenceClassification model).\n"
     ]
    }
   ],
   "source": [
    "mlm = pipeline(\"fill-mask\", device=0)"
   ]
  },
  {
   "cell_type": "code",
   "execution_count": 18,
   "id": "698b0ee2-8047-43f2-b1b7-474f91962ec7",
   "metadata": {},
   "outputs": [
    {
     "name": "stderr",
     "output_type": "stream",
     "text": [
      "C:\\Users\\emili\\Desktop\\transformers_course\\transformers-env\\Lib\\site-packages\\transformers\\models\\roberta\\modeling_roberta.py:370: UserWarning: 1Torch was not compiled with flash attention. (Triggered internally at C:\\actions-runner\\_work\\pytorch\\pytorch\\builder\\windows\\pytorch\\aten\\src\\ATen\\native\\transformers\\cuda\\sdp_utils.cpp:555.)\n",
      "  attn_output = torch.nn.functional.scaled_dot_product_attention(\n"
     ]
    },
    {
     "data": {
      "text/plain": [
       "[{'score': 0.07011537253856659,\n",
       "  'token': 1470,\n",
       "  'token_str': ' France',\n",
       "  'sequence': 'Bombardier chief to leave France'},\n",
       " {'score': 0.0689157247543335,\n",
       "  'token': 633,\n",
       "  'token_str': ' job',\n",
       "  'sequence': 'Bombardier chief to leave job'},\n",
       " {'score': 0.05413396283984184,\n",
       "  'token': 558,\n",
       "  'token_str': ' office',\n",
       "  'sequence': 'Bombardier chief to leave office'},\n",
       " {'score': 0.023152265697717667,\n",
       "  'token': 2201,\n",
       "  'token_str': ' Paris',\n",
       "  'sequence': 'Bombardier chief to leave Paris'},\n",
       " {'score': 0.02059601992368698,\n",
       "  'token': 896,\n",
       "  'token_str': ' Canada',\n",
       "  'sequence': 'Bombardier chief to leave Canada'}]"
      ]
     },
     "execution_count": 18,
     "metadata": {},
     "output_type": "execute_result"
    }
   ],
   "source": [
    "mlm(\"Bombardier chief to leave <mask>\")"
   ]
  },
  {
   "cell_type": "code",
   "execution_count": 20,
   "id": "034a607b-e1a6-4390-8522-d9666509c2db",
   "metadata": {},
   "outputs": [
    {
     "data": {
      "text/plain": [
       "[{'score': 0.6713288426399231,\n",
       "  'token': 11016,\n",
       "  'token_str': ' Airbus',\n",
       "  'sequence': 'Shares in Airbus and plane-making giant Bombardier have fallen to a 10-year low following the departure of its chief executive and two members of the board.'},\n",
       " {'score': 0.2534988522529602,\n",
       "  'token': 6722,\n",
       "  'token_str': ' Boeing',\n",
       "  'sequence': 'Shares in Boeing and plane-making giant Bombardier have fallen to a 10-year low following the departure of its chief executive and two members of the board.'},\n",
       " {'score': 0.0209377221763134,\n",
       "  'token': 15064,\n",
       "  'token_str': ' aerospace',\n",
       "  'sequence': 'Shares in aerospace and plane-making giant Bombardier have fallen to a 10-year low following the departure of its chief executive and two members of the board.'},\n",
       " {'score': 0.014827230013906956,\n",
       "  'token': 8537,\n",
       "  'token_str': ' airlines',\n",
       "  'sequence': 'Shares in airlines and plane-making giant Bombardier have fallen to a 10-year low following the departure of its chief executive and two members of the board.'},\n",
       " {'score': 0.005974379368126392,\n",
       "  'token': 9848,\n",
       "  'token_str': ' aviation',\n",
       "  'sequence': 'Shares in aviation and plane-making giant Bombardier have fallen to a 10-year low following the departure of its chief executive and two members of the board.'}]"
      ]
     },
     "execution_count": 20,
     "metadata": {},
     "output_type": "execute_result"
    }
   ],
   "source": [
    "text = '''Shares in <mask> and plane-making giant Bombardier have fallen to a 10-year low following the departure of its chief executive and two members of the board.'''\n",
    "pprint(mlm(text))"
   ]
  },
  {
   "cell_type": "code",
   "execution_count": 22,
   "id": "b3b96fef-84d5-4512-90df-cbe0fa6d63f2",
   "metadata": {},
   "outputs": [
    {
     "name": "stdout",
     "output_type": "stream",
     "text": [
      "[{'score': 0.5512970685958862,\n",
      "  'sequence': 'Shares in train and plane-making giant Bombardier have fallen '\n",
      "              'to a 10-year low following the resignation of its chief '\n",
      "              'executive and two members of the board.',\n",
      "  'token': 6985,\n",
      "  'token_str': ' resignation'},\n",
      " {'score': 0.21672526001930237,\n",
      "  'sequence': 'Shares in train and plane-making giant Bombardier have fallen '\n",
      "              'to a 10-year low following the departure of its chief executive '\n",
      "              'and two members of the board.',\n",
      "  'token': 5824,\n",
      "  'token_str': ' departure'},\n",
      " {'score': 0.12616229057312012,\n",
      "  'sequence': 'Shares in train and plane-making giant Bombardier have fallen '\n",
      "              'to a 10-year low following the departures of its chief '\n",
      "              'executive and two members of the board.',\n",
      "  'token': 25624,\n",
      "  'token_str': ' departures'},\n",
      " {'score': 0.03691171482205391,\n",
      "  'sequence': 'Shares in train and plane-making giant Bombardier have fallen '\n",
      "              'to a 10-year low following the dismissal of its chief executive '\n",
      "              'and two members of the board.',\n",
      "  'token': 14289,\n",
      "  'token_str': ' dismissal'},\n",
      " {'score': 0.013978209346532822,\n",
      "  'sequence': 'Shares in train and plane-making giant Bombardier have fallen '\n",
      "              'to a 10-year low following the firing of its chief executive '\n",
      "              'and two members of the board.',\n",
      "  'token': 5834,\n",
      "  'token_str': ' firing'}]\n"
     ]
    }
   ],
   "source": [
    "text = '''Shares in train and plane-making giant Bombardier have fallen to a 10-year low following the <mask> of its chief executive and two members of the board.'''\n",
    "pprint(mlm(text))"
   ]
  },
  {
   "cell_type": "code",
   "execution_count": 65,
   "id": "4c12d755-4152-4272-8341-dac1d853cbfd",
   "metadata": {},
   "outputs": [],
   "source": [
    "# ESERCIZIO: Provare a sostituire i termini nel documento utilizzando una funzione automatizzata.\n",
    "# E' possibile prenderli randomicamente o usare un metodo migliore, come TF-IDF che calcola l'importanza dei termini\n",
    "# sulla base della loro frequenza.\n",
    "\n",
    "from sklearn.feature_extraction.text import TfidfVectorizer\n",
    "import re\n",
    "\n",
    "vect = TfidfVectorizer(input='content')\n",
    "X = vect.fit_transform([doc])"
   ]
  },
  {
   "cell_type": "code",
   "execution_count": 66,
   "id": "a0735354-1531-4615-96a9-728c0670003e",
   "metadata": {},
   "outputs": [],
   "source": [
    "def hasNoDigit(s):\n",
    "    return not any(char.isdigit() for char in s)"
   ]
  },
  {
   "cell_type": "code",
   "execution_count": 143,
   "id": "16ca6d70-e593-4d1f-a66a-01e77d05b6c9",
   "metadata": {},
   "outputs": [
    {
     "data": {
      "text/plain": [
       "['restructuring',\n",
       " 'resignations',\n",
       " 'manufacturer',\n",
       " 'implemented',\n",
       " 'development',\n",
       " 'understand',\n",
       " 'strategies',\n",
       " 'snowmobile',\n",
       " 'passengers',\n",
       " 'management',\n",
       " 'bombardier',\n",
       " 'worldwide',\n",
       " 'workforce',\n",
       " 'structure',\n",
       " 'statement',\n",
       " 'president',\n",
       " 'indicated',\n",
       " 'following',\n",
       " 'executive',\n",
       " 'departure',\n",
       " 'declining',\n",
       " 'boardroom',\n",
       " 'announced',\n",
       " 'services',\n",
       " 'rallying',\n",
       " 'montreal',\n",
       " 'division',\n",
       " 'controls',\n",
       " 'continue',\n",
       " 'complete',\n",
       " 'canadian',\n",
       " 'beaudoin',\n",
       " 'analysts',\n",
       " 'aircraft',\n",
       " 'tellier',\n",
       " 'stemmed',\n",
       " 'started',\n",
       " 'seating',\n",
       " 'reshape',\n",
       " 'quarter',\n",
       " 'profits',\n",
       " 'ongoing',\n",
       " 'members',\n",
       " 'laurent',\n",
       " 'largest',\n",
       " 'january',\n",
       " 'execute',\n",
       " 'earlier',\n",
       " 'dollars',\n",
       " 'dispute',\n",
       " 'develop',\n",
       " 'defence',\n",
       " 'created',\n",
       " 'concern',\n",
       " 'company',\n",
       " 'wanted',\n",
       " 'tenure',\n",
       " 'shares',\n",
       " 'profit',\n",
       " 'monday',\n",
       " 'making',\n",
       " 'family',\n",
       " 'fallen',\n",
       " 'earned',\n",
       " 'before',\n",
       " 'almost',\n",
       " 'would',\n",
       " 'world',\n",
       " 'which',\n",
       " 'until',\n",
       " 'under',\n",
       " 'train',\n",
       " 'third',\n",
       " 'there',\n",
       " 'share',\n",
       " 'price',\n",
       " 'plans',\n",
       " 'plane',\n",
       " 'newly',\n",
       " 'month',\n",
       " 'maker',\n",
       " 'leave',\n",
       " 'giant',\n",
       " 'faced',\n",
       " 'drawn',\n",
       " 'civil',\n",
       " 'chief',\n",
       " 'cents',\n",
       " 'board',\n",
       " 'began',\n",
       " 'based',\n",
       " 'year',\n",
       " 'with',\n",
       " 'will',\n",
       " 'were',\n",
       " 'unit',\n",
       " 'time',\n",
       " 'this',\n",
       " 'that',\n",
       " 'term',\n",
       " 'take',\n",
       " 'stay',\n",
       " 'sold',\n",
       " 'seem',\n",
       " 'said',\n",
       " 'role',\n",
       " 'paul',\n",
       " 'part',\n",
       " 'news',\n",
       " 'need',\n",
       " 'lost',\n",
       " 'long',\n",
       " 'left',\n",
       " 'have',\n",
       " 'from',\n",
       " 'firm',\n",
       " 'down',\n",
       " 'been',\n",
       " 'amid',\n",
       " 'also',\n",
       " 'who',\n",
       " 'was',\n",
       " 'two',\n",
       " 'top',\n",
       " 'the',\n",
       " 'not',\n",
       " 'new',\n",
       " 'low',\n",
       " 'its',\n",
       " 'has',\n",
       " 'had',\n",
       " 'for',\n",
       " 'cut',\n",
       " 'ceo',\n",
       " 'but',\n",
       " 'and',\n",
       " 'ago',\n",
       " 'up',\n",
       " 'to',\n",
       " 'or',\n",
       " 'on',\n",
       " 'of',\n",
       " 'mr',\n",
       " 'it',\n",
       " 'in',\n",
       " 'he',\n",
       " 'by',\n",
       " 'be',\n",
       " 'at',\n",
       " 'an']"
      ]
     },
     "execution_count": 143,
     "metadata": {},
     "output_type": "execute_result"
    }
   ],
   "source": [
    "exchange_terms = list(vect.get_feature_names_out())\n",
    "exchange_terms = [term for term in exchange_terms if hasNoDigit(term)]\n",
    "exchange_terms = list(reversed(sorted(exchange_terms, key=len)))\n",
    "exchange_terms"
   ]
  },
  {
   "cell_type": "code",
   "execution_count": 101,
   "id": "3e994778-f228-4bd3-86d6-9ee405d790c3",
   "metadata": {},
   "outputs": [
    {
     "data": {
      "text/plain": [
       "'Bombardier chief to leave company\\n\\nShares in train and plane-making giant Bombardier have fallen to a 10-year low following the departure of its chief executive and two members of the board.\\n\\nPaul Tellier, who was also Bombardier\\'s president, left the company amid an ongoing restructuring. Laurent Beaudoin, part of the family that controls the Montreal-based firm, will take on the role of CEO under a newly created management structure. Analysts said the resignations seem to have stemmed from a boardroom dispute. Under Mr Tellier\\'s tenure at the company, which began in January 2003, plans to cut the worldwide workforce of 75,000 by almost a third by 2006 were announced. The firm\\'s snowmobile division and defence services unit were also sold and Bombardier started the development of a new aircraft seating 110 to 135 passengers.\\n\\nMr Tellier had indicated he wanted to stay at the world\\'s top train maker and third largest manufacturer of civil aircraft until the restructuring was complete. But Bombardier has been faced with a declining share price and profits. Earlier this month the firm said it earned $10m (£19.2m) in the third quarter, down from a profit of $133m a year ago. \"I understand the board\\'s concern that I would not be there for the long-term and the need to develop and execute strategies, and the need to reshape the management structure at this time,\" Mr Tellier said in a statement on Monday. Bombardier said restructuring plans drawn up by Mr Tellier\\'s would continue to be implemented. Shares in Bombardier lost 65 Canadian cents or 25% on the news to 1.90 Canadian dollars before rallying to 2.20 Canadian dollars.'"
      ]
     },
     "execution_count": 101,
     "metadata": {},
     "output_type": "execute_result"
    }
   ],
   "source": [
    "doc"
   ]
  },
  {
   "cell_type": "code",
   "execution_count": 102,
   "id": "4a9080be-143f-484b-9389-5a5576b64e9e",
   "metadata": {},
   "outputs": [
    {
     "data": {
      "text/plain": [
       "['Bombardier chief to leave company',\n",
       " 'Shares in train and plane-making giant Bombardier have fallen to a 10-year low following the departure of its chief executive and two members of the board.',\n",
       " \"Paul Tellier, who was also Bombardier's president, left the company amid an ongoing restructuring\",\n",
       " 'Laurent Beaudoin, part of the family that controls the Montreal-based firm, will take on the role of CEO under a newly created management structure',\n",
       " 'Analysts said the resignations seem to have stemmed from a boardroom dispute',\n",
       " \"Under Mr Tellier's tenure at the company, which began in January 2003, plans to cut the worldwide workforce of 75,000 by almost a third by 2006 were announced\",\n",
       " \"The firm's snowmobile division and defence services unit were also sold and Bombardier started the development of a new aircraft seating 110 to 135 passengers.\",\n",
       " \"Mr Tellier had indicated he wanted to stay at the world's top train maker and third largest manufacturer of civil aircraft until the restructuring was complete\",\n",
       " 'But Bombardier has been faced with a declining share price and profits',\n",
       " 'Earlier this month the firm said it earned $10m (£19.2m) in the third quarter, down from a profit of $133m a year ago',\n",
       " '\"I understand the board\\'s concern that I would not be there for the long-term and the need to develop and execute strategies, and the need to reshape the management structure at this time,\" Mr Tellier said in a statement on Monday',\n",
       " \"Bombardier said restructuring plans drawn up by Mr Tellier's would continue to be implemented\",\n",
       " 'Shares in Bombardier lost 65 Canadian cents or 25% on the news to 1.90 Canadian dollars before rallying to 2.20 Canadian dollars.']"
      ]
     },
     "execution_count": 102,
     "metadata": {},
     "output_type": "execute_result"
    }
   ],
   "source": [
    "sentences = re.split('\\\\. |\\n', doc)\n",
    "sentences = [sentence for sentence in sentences if len(sentence) > 3]\n",
    "sentences"
   ]
  },
  {
   "cell_type": "code",
   "execution_count": 174,
   "id": "bf38c33c-c1f5-48e6-8028-a708292e21fb",
   "metadata": {},
   "outputs": [],
   "source": [
    "masked_sentences = []\n",
    "\n",
    "for sentence in sentences:\n",
    "    term_found = False\n",
    "    for term in exchange_terms:\n",
    "        if term in sentence and not term_found:\n",
    "            new_sentence = sentence.replace(f\"{term}\", \"<mask>\", 1)\n",
    "            masked_sentences.append(new_sentence)\n",
    "            term_found = True\n",
    "            break\n"
   ]
  },
  {
   "cell_type": "code",
   "execution_count": 175,
   "id": "ffda6f48-5162-41df-9314-d9417dae1193",
   "metadata": {},
   "outputs": [
    {
     "data": {
      "text/plain": [
       "['Bombardier chief to leave <mask>',\n",
       " 'Shares in train and plane-making giant Bombardier have fallen to a 10-year low <mask> the departure of its chief executive and two members of the board.',\n",
       " \"Paul Tellier, who was also Bombardier's president, left the company amid an ongoing <mask>\",\n",
       " 'Laurent Beaudoin, part of the family that controls the Montreal-based firm, will take on the role of CEO under a newly created <mask> structure',\n",
       " 'Analysts said the <mask> seem to have stemmed from a boardroom dispute',\n",
       " \"Under Mr Tellier's tenure at the company, which began in January 2003, plans to cut the <mask> workforce of 75,000 by almost a third by 2006 were announced\",\n",
       " \"The firm's snowmobile division and defence services unit were also sold and Bombardier started the <mask> of a new aircraft seating 110 to 135 passengers.\",\n",
       " \"Mr Tellier had indicated he wanted to stay at the world's top train maker and third largest manufacturer of civil aircraft until the <mask> was complete\",\n",
       " 'But Bombardier has been faced with a <mask> share price and profits',\n",
       " 'Earlier this month the firm said it earned $10m (£19.2m) in the third <mask>, down from a profit of $133m a year ago',\n",
       " '\"I <mask> the board\\'s concern that I would not be there for the long-term and the need to develop and execute strategies, and the need to reshape the management structure at this time,\" Mr Tellier said in a statement on Monday',\n",
       " \"Bombardier said <mask> plans drawn up by Mr Tellier's would continue to be implemented\",\n",
       " 'Shares in Bombardier lost 65 Canadian cents or 25% on the news to 1.90 Canadian dollars before <mask> to 2.20 Canadian dollars.']"
      ]
     },
     "execution_count": 175,
     "metadata": {},
     "output_type": "execute_result"
    }
   ],
   "source": [
    "masked_sentences"
   ]
  },
  {
   "cell_type": "code",
   "execution_count": 176,
   "id": "5b40637d-ae79-4caf-8e9d-efebf9cd18e4",
   "metadata": {},
   "outputs": [
    {
     "name": "stdout",
     "output_type": "stream",
     "text": [
      "Bombardier chief to leave France\n",
      "Shares in train and plane-making giant Bombardier have fallen to a 10-year low following the departure of its chief executive and two members of the board.\n",
      "Paul Tellier, who was also Bombardier's president, left the company amid an ongoing investigation\n",
      "Laurent Beaudoin, part of the family that controls the Montreal-based firm, will take on the role of CEO under a newly created leadership structure\n",
      "Analysts said the allegations seem to have stemmed from a boardroom dispute\n",
      "Under Mr Tellier's tenure at the company, which began in January 2003, plans to cut the current workforce of 75,000 by almost a third by 2006 were announced\n",
      "The firm's snowmobile division and defence services unit were also sold and Bombardier started the construction of a new aircraft seating 110 to 135 passengers.\n",
      "Mr Tellier had indicated he wanted to stay at the world's top train maker and third largest manufacturer of civil aircraft until the deal was complete\n",
      "But Bombardier has been faced with a falling share price and profits\n",
      "Earlier this month the firm said it earned $10m (£19.2m) in the third quarter, down from a profit of $133m a year ago\n",
      "\"I understand the board's concern that I would not be there for the long-term and the need to develop and execute strategies, and the need to reshape the management structure at this time,\" Mr Tellier said in a statement on Monday\n",
      "Bombardier said contingency plans drawn up by Mr Tellier's would continue to be implemented\n",
      "Shares in Bombardier lost 65 Canadian cents or 25% on the news to 1.90 Canadian dollars before recovering to 2.20 Canadian dollars.\n"
     ]
    }
   ],
   "source": [
    "doc_2 = \"\"\n",
    "for sentence in masked_sentences:\n",
    "    output = mlm(sentence)\n",
    "    print(output[0][\"sequence\"])\n",
    "    doc_2 += output[0][\"sequence\"] + \"\\n\""
   ]
  },
  {
   "cell_type": "code",
   "execution_count": 177,
   "id": "71f7f988-1e5d-40b8-b69f-9233534b1a84",
   "metadata": {},
   "outputs": [
    {
     "name": "stdout",
     "output_type": "stream",
     "text": [
      "Bombardier chief to leave company\n",
      "\n",
      "Shares in train and plane-making\n",
      "giant Bombardier have fallen to a 10-year low following the departure\n",
      "of its chief executive and two members of the board.\n",
      "\n",
      "Paul Tellier,\n",
      "who was also Bombardier's president, left the company amid an ongoing\n",
      "restructuring.  Laurent Beaudoin, part of the family that controls the\n",
      "Montreal-based firm, will take on the role of CEO under a newly\n",
      "created management structure.  Analysts said the resignations seem to\n",
      "have stemmed from a boardroom dispute.  Under Mr Tellier's tenure at\n",
      "the company, which began in January 2003, plans to cut the worldwide\n",
      "workforce of 75,000 by almost a third by 2006 were announced.  The\n",
      "firm's snowmobile division and defence services unit were also sold\n",
      "and Bombardier started the development of a new aircraft seating 110\n",
      "to 135 passengers.\n",
      "\n",
      "Mr Tellier had indicated he wanted to stay at the\n",
      "world's top train maker and third largest manufacturer of civil\n",
      "aircraft until the restructuring was complete.  But Bombardier has\n",
      "been faced with a declining share price and profits.  Earlier this\n",
      "month the firm said it earned $10m (£19.2m) in the third quarter, down\n",
      "from a profit of $133m a year ago.  \"I understand the board's concern\n",
      "that I would not be there for the long-term and the need to develop\n",
      "and execute strategies, and the need to reshape the management\n",
      "structure at this time,\" Mr Tellier said in a statement on Monday.\n",
      "Bombardier said restructuring plans drawn up by Mr Tellier's would\n",
      "continue to be implemented.  Shares in Bombardier lost 65 Canadian\n",
      "cents or 25% on the news to 1.90 Canadian dollars before rallying to\n",
      "2.20 Canadian dollars.\n",
      "\n",
      "\n",
      "\n",
      "Bombardier chief to leave France\n",
      "Shares in train and plane-making\n",
      "giant Bombardier have fallen to a 10-year low following the departure\n",
      "of its chief executive and two members of the board.\n",
      "Paul Tellier, who\n",
      "was also Bombardier's president, left the company amid an ongoing\n",
      "investigation\n",
      "Laurent Beaudoin, part of the family that controls the\n",
      "Montreal-based firm, will take on the role of CEO under a newly\n",
      "created leadership structure\n",
      "Analysts said the allegations seem to\n",
      "have stemmed from a boardroom dispute\n",
      "Under Mr Tellier's tenure at the\n",
      "company, which began in January 2003, plans to cut the current\n",
      "workforce of 75,000 by almost a third by 2006 were announced\n",
      "The\n",
      "firm's snowmobile division and defence services unit were also sold\n",
      "and Bombardier started the construction of a new aircraft seating 110\n",
      "to 135 passengers.\n",
      "Mr Tellier had indicated he wanted to stay at the\n",
      "world's top train maker and third largest manufacturer of civil\n",
      "aircraft until the deal was complete\n",
      "But Bombardier has been faced\n",
      "with a falling share price and profits\n",
      "Earlier this month the firm\n",
      "said it earned $10m (£19.2m) in the third quarter, down from a profit\n",
      "of $133m a year ago\n",
      "\"I understand the board's concern that I would not\n",
      "be there for the long-term and the need to develop and execute\n",
      "strategies, and the need to reshape the management structure at this\n",
      "time,\" Mr Tellier said in a statement on Monday\n",
      "Bombardier said\n",
      "contingency plans drawn up by Mr Tellier's would continue to be\n",
      "implemented\n",
      "Shares in Bombardier lost 65 Canadian cents or 25% on the\n",
      "news to 1.90 Canadian dollars before recovering to 2.20 Canadian\n",
      "dollars.\n"
     ]
    }
   ],
   "source": [
    "print(textwrap.fill(doc, replace_whitespace=False, fix_sentence_endings=True))\n",
    "print(\"\\n\\n\")\n",
    "print(textwrap.fill(doc_2, replace_whitespace=False, fix_sentence_endings=True))"
   ]
  },
  {
   "cell_type": "code",
   "execution_count": null,
   "id": "5b349103-33d6-47e0-9eee-cb88c5fb5e3b",
   "metadata": {},
   "outputs": [],
   "source": []
  }
 ],
 "metadata": {
  "kernelspec": {
   "display_name": "Python 3 (ipykernel)",
   "language": "python",
   "name": "python3"
  },
  "language_info": {
   "codemirror_mode": {
    "name": "ipython",
    "version": 3
   },
   "file_extension": ".py",
   "mimetype": "text/x-python",
   "name": "python",
   "nbconvert_exporter": "python",
   "pygments_lexer": "ipython3",
   "version": "3.10.4"
  }
 },
 "nbformat": 4,
 "nbformat_minor": 5
}
