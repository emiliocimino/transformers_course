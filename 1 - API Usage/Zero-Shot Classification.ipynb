{
 "cells": [
  {
   "cell_type": "code",
   "execution_count": 1,
   "id": "37651419-895f-4c25-900e-7778f9e5d26f",
   "metadata": {},
   "outputs": [
    {
     "name": "stderr",
     "output_type": "stream",
     "text": [
      "  % Total    % Received % Xferd  Average Speed   Time    Time     Time  Current\n",
      "                                 Dload  Upload   Total   Spent    Left  Speed\n",
      "\n",
      "  0     0    0     0    0     0      0      0 --:--:-- --:--:-- --:--:--     0\n",
      "  0     0    0     0    0     0      0      0 --:--:-- --:--:-- --:--:--     0\n",
      " 87 4965k   87 4334k    0     0  2539k      0  0:00:01  0:00:01 --:--:-- 2544k\n",
      "100 4965k  100 4965k    0     0  2696k      0  0:00:01  0:00:01 --:--:-- 2701k\n"
     ]
    }
   ],
   "source": [
    "!curl -o \"data/bbc_text_cls.csv\" \"https://lazyprogrammer.me/course_files/nlp/bbc_text_cls.csv\" --ssl-revoke-best-effort"
   ]
  },
  {
   "cell_type": "code",
   "execution_count": 4,
   "id": "6d00444b-9d94-44f1-b6e6-a7b94f98a33c",
   "metadata": {},
   "outputs": [],
   "source": [
    "from transformers import pipeline\n",
    "\n",
    "import numpy as np\n",
    "import pandas as pd\n",
    "import matplotlib.pyplot as plt\n",
    "import seaborn as sns\n",
    "import textwrap\n",
    "\n",
    "from sklearn.metrics import roc_auc_score, f1_score, confusion_matrix"
   ]
  },
  {
   "cell_type": "code",
   "execution_count": 6,
   "id": "4283a818-1f78-47f4-be83-7682993dd6b1",
   "metadata": {},
   "outputs": [
    {
     "name": "stderr",
     "output_type": "stream",
     "text": [
      "No model was supplied, defaulted to facebook/bart-large-mnli and revision d7645e1 (https://huggingface.co/facebook/bart-large-mnli).\n",
      "Using a pipeline without specifying a model name and revision in production is not recommended.\n"
     ]
    }
   ],
   "source": [
    "classifier = pipeline(\"zero-shot-classification\", device=0)"
   ]
  },
  {
   "cell_type": "code",
   "execution_count": 19,
   "id": "4e11c6aa-f498-4931-b213-52fc1cb97daf",
   "metadata": {},
   "outputs": [
    {
     "data": {
      "text/plain": [
       "{'sequence': 'This is such a great moovie',\n",
       " 'labels': ['Positive', 'Negative'],\n",
       " 'scores': [0.9362872242927551, 0.0637127235531807]}"
      ]
     },
     "execution_count": 19,
     "metadata": {},
     "output_type": "execute_result"
    }
   ],
   "source": [
    "classifier(\"This is such a great moovie\", candidate_labels=[\"Positive\", \"Negative\"])"
   ]
  },
  {
   "cell_type": "code",
   "execution_count": 20,
   "id": "e8803653-6a5e-4fef-bb35-9783088809aa",
   "metadata": {},
   "outputs": [],
   "source": [
    "df = pd.read_csv(\"data/bbc_text_cls.csv\")"
   ]
  },
  {
   "cell_type": "code",
   "execution_count": 26,
   "id": "9d74dfb4-619e-49ed-bba0-820e1939f40a",
   "metadata": {},
   "outputs": [
    {
     "data": {
      "text/plain": [
       "2225"
      ]
     },
     "execution_count": 26,
     "metadata": {},
     "output_type": "execute_result"
    }
   ],
   "source": [
    "len(df)"
   ]
  },
  {
   "cell_type": "code",
   "execution_count": 27,
   "id": "a9c0e6b5-313e-4a1e-88bd-6e99b118cfd9",
   "metadata": {},
   "outputs": [
    {
     "data": {
      "text/html": [
       "<div>\n",
       "<style scoped>\n",
       "    .dataframe tbody tr th:only-of-type {\n",
       "        vertical-align: middle;\n",
       "    }\n",
       "\n",
       "    .dataframe tbody tr th {\n",
       "        vertical-align: top;\n",
       "    }\n",
       "\n",
       "    .dataframe thead th {\n",
       "        text-align: right;\n",
       "    }\n",
       "</style>\n",
       "<table border=\"1\" class=\"dataframe\">\n",
       "  <thead>\n",
       "    <tr style=\"text-align: right;\">\n",
       "      <th></th>\n",
       "      <th>text</th>\n",
       "      <th>labels</th>\n",
       "    </tr>\n",
       "  </thead>\n",
       "  <tbody>\n",
       "    <tr>\n",
       "      <th>1683</th>\n",
       "      <td>All Black magic: New Zealand rugby\\n\\nPlaying ...</td>\n",
       "      <td>sport</td>\n",
       "    </tr>\n",
       "    <tr>\n",
       "      <th>1233</th>\n",
       "      <td>Lib Dems highlight problem debt\\n\\nPeople vuln...</td>\n",
       "      <td>politics</td>\n",
       "    </tr>\n",
       "    <tr>\n",
       "      <th>409</th>\n",
       "      <td>DaimlerChrysler's 2004 sales rise\\n\\nUS-German...</td>\n",
       "      <td>business</td>\n",
       "    </tr>\n",
       "    <tr>\n",
       "      <th>1001</th>\n",
       "      <td>Howard attacks cost of asylum\\n\\nMichael Howar...</td>\n",
       "      <td>politics</td>\n",
       "    </tr>\n",
       "    <tr>\n",
       "      <th>1346</th>\n",
       "      <td>Athens memories soar above lows\\n\\nWell, it's ...</td>\n",
       "      <td>sport</td>\n",
       "    </tr>\n",
       "  </tbody>\n",
       "</table>\n",
       "</div>"
      ],
      "text/plain": [
       "                                                   text    labels\n",
       "1683  All Black magic: New Zealand rugby\\n\\nPlaying ...     sport\n",
       "1233  Lib Dems highlight problem debt\\n\\nPeople vuln...  politics\n",
       "409   DaimlerChrysler's 2004 sales rise\\n\\nUS-German...  business\n",
       "1001  Howard attacks cost of asylum\\n\\nMichael Howar...  politics\n",
       "1346  Athens memories soar above lows\\n\\nWell, it's ...     sport"
      ]
     },
     "execution_count": 27,
     "metadata": {},
     "output_type": "execute_result"
    }
   ],
   "source": [
    "df.sample(frac=1).head()"
   ]
  },
  {
   "cell_type": "code",
   "execution_count": 29,
   "id": "d7c7ddeb-1ede-4291-8d87-f0a540cb8205",
   "metadata": {},
   "outputs": [
    {
     "data": {
      "text/plain": [
       "['tech', 'entertainment', 'politics', 'business', 'sport']"
      ]
     },
     "execution_count": 29,
     "metadata": {},
     "output_type": "execute_result"
    }
   ],
   "source": [
    "labels = list(set(df[\"labels\"]))\n",
    "labels"
   ]
  },
  {
   "cell_type": "code",
   "execution_count": 33,
   "id": "d60537ee-db1e-48e6-abd9-3a15c1912558",
   "metadata": {},
   "outputs": [
    {
     "name": "stdout",
     "output_type": "stream",
     "text": [
      "UK troops on Ivory Coast standby  Downing Street has confirmed British\n",
      "troops are on standby in case they need to help evacuate several\n",
      "hundred UK citizens from Ivory Coast.  The news came as it emerged\n",
      "France had begun evacuating its hostages after days of anti-French\n",
      "demonstrations. Trouble flared after nine French peacekeepers were\n",
      "killed and President Jacques Chirac ordered the destruction of the\n",
      "Ivory Coast's air force. A company of 100-120 UK troops is understood\n",
      "to have been put on standby. They are ready to fly out and secure the\n",
      "route from the embassy to the airport if called upon. Prime Minister\n",
      "Tony Blair's official spokesman said: \"There are British nationals in\n",
      "Ivory Coast and as you can imagine we are making the usual contingency\n",
      "plans in case the situation deteriorates further, but that's all I can\n",
      "say at this stage.\"  He added the situation would be monitored\n",
      "carefully in case evacuation became necessary. France has played a\n",
      "lead role in international peacekeeping in Ivory Coast - a former\n",
      "colony - after President Laurent Gbagbo broke an 18-month ceasefire\n",
      "with rebels bombing their positions and killing the nine French\n",
      "soldiers. The decision to destroy the African nation's small air force\n",
      "prompted riots against French and other foreign nationals. The Spanish\n",
      "have already put their forces on standby to evacuate their nationals\n",
      "if necessary.\n"
     ]
    }
   ],
   "source": [
    "print(textwrap.fill(df.iloc[1024][\"text\"]))"
   ]
  },
  {
   "cell_type": "code",
   "execution_count": 37,
   "id": "ea3089db-2903-48d1-8ecc-777e0099aa1f",
   "metadata": {},
   "outputs": [
    {
     "name": "stdout",
     "output_type": "stream",
     "text": [
      "politics\n"
     ]
    }
   ],
   "source": [
    "print(textwrap.fill(df.iloc[1024][\"labels\"]))"
   ]
  },
  {
   "cell_type": "code",
   "execution_count": 38,
   "id": "ad7bf40a-6837-4f75-9dff-ef0553bbc792",
   "metadata": {},
   "outputs": [
    {
     "data": {
      "text/plain": [
       "{'sequence': 'UK troops on Ivory Coast standby\\n\\nDowning Street has confirmed British troops are on standby in case they need to help evacuate several hundred UK citizens from Ivory Coast.\\n\\nThe news came as it emerged France had begun evacuating its hostages after days of anti-French demonstrations. Trouble flared after nine French peacekeepers were killed and President Jacques Chirac ordered the destruction of the Ivory Coast\\'s air force. A company of 100-120 UK troops is understood to have been put on standby. They are ready to fly out and secure the route from the embassy to the airport if called upon. Prime Minister Tony Blair\\'s official spokesman said: \"There are British nationals in Ivory Coast and as you can imagine we are making the usual contingency plans in case the situation deteriorates further, but that\\'s all I can say at this stage.\"\\n\\nHe added the situation would be monitored carefully in case evacuation became necessary. France has played a lead role in international peacekeeping in Ivory Coast - a former colony - after President Laurent Gbagbo broke an 18-month ceasefire with rebels bombing their positions and killing the nine French soldiers. The decision to destroy the African nation\\'s small air force prompted riots against French and other foreign nationals. The Spanish have already put their forces on standby to evacuate their nationals if necessary.',\n",
       " 'labels': ['politics', 'tech', 'business', 'entertainment', 'sport'],\n",
       " 'scores': [0.4175313413143158,\n",
       "  0.2115548849105835,\n",
       "  0.20523841679096222,\n",
       "  0.11830697953701019,\n",
       "  0.04736838489770889]}"
      ]
     },
     "execution_count": 38,
     "metadata": {},
     "output_type": "execute_result"
    }
   ],
   "source": [
    "# Proviamo a classificarlo:\n",
    "classifier(df.iloc[1024][\"text\"], candidate_labels=labels)"
   ]
  },
  {
   "cell_type": "code",
   "execution_count": 39,
   "id": "52d67eec-b1fd-4d5d-9187-012d0dd1f13b",
   "metadata": {},
   "outputs": [],
   "source": [
    "preds = classifier(df[\"text\"].to_list(), candidate_labels=labels)"
   ]
  },
  {
   "cell_type": "code",
   "execution_count": 41,
   "id": "7ebb1fe5-f352-4ed5-94c9-671c82251625",
   "metadata": {},
   "outputs": [],
   "source": [
    "predicted_labels = [p[\"labels\"][0] for p in preds]"
   ]
  },
  {
   "cell_type": "code",
   "execution_count": 43,
   "id": "ce4b8c04-3ab6-41d2-b201-507709142817",
   "metadata": {},
   "outputs": [],
   "source": [
    "df[\"predicted_labels\"] = predicted_labels"
   ]
  },
  {
   "cell_type": "code",
   "execution_count": 44,
   "id": "dcebb84f-9584-4940-84aa-d2a237131e20",
   "metadata": {},
   "outputs": [
    {
     "name": "stdout",
     "output_type": "stream",
     "text": [
      "Simple Accuracy: 0.5649438202247191\n"
     ]
    }
   ],
   "source": [
    "print(f\"Simple Accuracy: {np.mean(df[\"labels\"] == df[\"predicted_labels\"])}\")"
   ]
  },
  {
   "cell_type": "code",
   "execution_count": 46,
   "id": "c025e5eb-ab23-49d1-aebf-0e92fa575c0d",
   "metadata": {},
   "outputs": [
    {
     "data": {
      "text/plain": [
       "{'tech': 0, 'entertainment': 1, 'politics': 2, 'business': 3, 'sport': 4}"
      ]
     },
     "execution_count": 46,
     "metadata": {},
     "output_type": "execute_result"
    }
   ],
   "source": [
    "# Stiamo creando la matrice delle probabilità associate alle predizioni, però rispettando l'ordine iniziale delle labels\n",
    "\n",
    "N = len(df)\n",
    "K = len(labels)\n",
    "# Creiamo una hashmap per le labels che mappa le labels agli indici.\n",
    "label2index = {v:k for k, v in enumerate(labels)}\n",
    "label2index"
   ]
  },
  {
   "cell_type": "code",
   "execution_count": 49,
   "id": "801044a5-e909-434e-a6c6-3273bd99a35a",
   "metadata": {},
   "outputs": [],
   "source": [
    "probs = np.zeros((N,K))\n",
    "for i in range(N):\n",
    "    pred = preds[i]\n",
    "    for label, score in zip(pred[\"labels\"], pred[\"scores\"]):\n",
    "        matrix_idx = label2index[label]\n",
    "        probs[i, matrix_idx] = score"
   ]
  },
  {
   "cell_type": "code",
   "execution_count": 68,
   "id": "d764aebd-38a5-48ec-9670-a48085d066b8",
   "metadata": {},
   "outputs": [],
   "source": [
    "# Per calcolare L'AUC abbiamo bisogno delle labels come valori interi, dunque convertiamo le label del df in interi\n",
    "# Servirà anche per la confusion matrix\n",
    "# Sono i true values, ma convertiti in indici.\n",
    "int_labels = [label2index[x] for x in df[\"labels\"]]"
   ]
  },
  {
   "cell_type": "code",
   "execution_count": 69,
   "id": "d69057da-ec03-4e32-a4b0-b4ac27a54412",
   "metadata": {},
   "outputs": [],
   "source": [
    "# Prendiamo la probabilità massima per ogni predizione. Nota che qui già sono in ordine per costruzione di matrice\n",
    "int_predictions =  np.argmax(probs, axis=1) "
   ]
  },
  {
   "cell_type": "code",
   "execution_count": 70,
   "id": "0ff22b19-d9df-4c27-9465-2db71ec61958",
   "metadata": {},
   "outputs": [],
   "source": [
    "cm = confusion_matrix(int_labels, int_predictions, normalize=\"true\")"
   ]
  },
  {
   "cell_type": "code",
   "execution_count": 71,
   "id": "4b6fb74c-072e-4e39-af83-5071cb577c57",
   "metadata": {},
   "outputs": [
    {
     "data": {
      "image/png": "[encoded data removed]",
      "text/plain": [
       "<Figure size 640x480 with 2 Axes>"
      ]
     },
     "metadata": {},
     "output_type": "display_data"
    }
   ],
   "source": [
    "def plot_cm(cm):\n",
    "    df_cm = pd.DataFrame(cm, index=labels, columns=labels)\n",
    "    ax = sns.heatmap(df_cm, annot=True, fmt=\".2g\")\n",
    "    ax.set_xlabel(\"Predictions\")\n",
    "    ax.set_ylabel(\"True\")\n",
    "\n",
    "plot_cm(cm)"
   ]
  },
  {
   "cell_type": "code",
   "execution_count": 65,
   "id": "418e304c-a312-461b-9adb-ab1ce3bc8e73",
   "metadata": {},
   "outputs": [
    {
     "data": {
      "text/plain": [
       "0.5649438202247191"
      ]
     },
     "execution_count": 65,
     "metadata": {},
     "output_type": "execute_result"
    }
   ],
   "source": [
    "# Questo score è naturalmente creato per classificazione binaria. Per poterlo usare in una classificazione multipla,\n",
    "# è necessario passare average = \"micro\"  -> Calculate metrics globally by counting the total true positives, false negatives and false positives. [docs]\n",
    "# Siccome F1 rispecchia l'accuratezza, significa che le classi non sono sbilanciate\n",
    "f1_score(df[\"labels\"], df[\"predicted_labels\"], average=\"micro\")"
   ]
  },
  {
   "cell_type": "code",
   "execution_count": 73,
   "id": "669b89d0-02c1-4e61-9820-79f5ce002cd2",
   "metadata": {},
   "outputs": [
    {
     "data": {
      "text/plain": [
       "0.8853276109189723"
      ]
     },
     "execution_count": 73,
     "metadata": {},
     "output_type": "execute_result"
    }
   ],
   "source": [
    "# Multi-Class OVO = One-Versus-One.\n",
    "# Anche questa metrica è naturalmente usata per una classificazione binaria, quindi abbiamo bisogno di specificare che è multi\n",
    "# Le int labels ci serve per dire quale delle colonne della matrice probs corrispondano alla label\n",
    "roc_auc_score(int_labels, probs, multi_class=\"ovo\")"
   ]
  },
  {
   "cell_type": "code",
   "execution_count": null,
   "id": "3d78d10e-6672-4ec1-929e-a98927f53a06",
   "metadata": {},
   "outputs": [],
   "source": [
    "# ESERCIZIO:\n",
    "# Provare ad usare uno zero-shot classifier per la sentiment analysis usando il dataset  \"data/AirlineTweet.csv\""
   ]
  }
 ],
 "metadata": {
  "kernelspec": {
   "display_name": "transformer-env",
   "language": "python",
   "name": "transformer-env"
  },
  "language_info": {
   "codemirror_mode": {
    "name": "ipython",
    "version": 3
   },
   "file_extension": ".py",
   "mimetype": "text/x-python",
   "name": "python",
   "nbconvert_exporter": "python",
   "pygments_lexer": "ipython3",
   "version": "3.12.5"
  }
 },
 "nbformat": 4,
 "nbformat_minor": 5
}
