{
 "cells": [
  {
   "cell_type": "code",
   "execution_count": 1,
   "id": "67006a14",
   "metadata": {},
   "outputs": [],
   "source": [
    "from transformers import pipeline"
   ]
  },
  {
   "cell_type": "code",
   "execution_count": 4,
   "id": "39cc1366",
   "metadata": {},
   "outputs": [
    {
     "name": "stderr",
     "output_type": "stream",
     "text": [
      "No model was supplied, defaulted to distilbert/distilbert-base-cased-distilled-squad and revision 564e9b5 (https://huggingface.co/distilbert/distilbert-base-cased-distilled-squad).\n",
      "Using a pipeline without specifying a model name and revision in production is not recommended.\n"
     ]
    }
   ],
   "source": [
    "qa = pipeline(\"question-answering\", device=0)"
   ]
  },
  {
   "cell_type": "code",
   "execution_count": 23,
   "id": "7e849586",
   "metadata": {},
   "outputs": [],
   "source": [
    "context = \"Today I went to the store to purchase a carton of milk\"\n",
    "question = \"What have I bought?\""
   ]
  },
  {
   "cell_type": "code",
   "execution_count": 24,
   "id": "049b72a0",
   "metadata": {},
   "outputs": [
    {
     "data": {
      "text/plain": [
       "{'score': 0.7585224509239197,\n",
       " 'start': 38,\n",
       " 'end': 54,\n",
       " 'answer': 'a carton of milk'}"
      ]
     },
     "execution_count": 24,
     "metadata": {},
     "output_type": "execute_result"
    }
   ],
   "source": [
    "qa(context=context, question=question)"
   ]
  },
  {
   "cell_type": "code",
   "execution_count": 25,
   "id": "43763b44",
   "metadata": {},
   "outputs": [
    {
     "data": {
      "text/plain": [
       "'a carton of milk'"
      ]
     },
     "execution_count": 25,
     "metadata": {},
     "output_type": "execute_result"
    }
   ],
   "source": [
    "context[38:54]"
   ]
  },
  {
   "cell_type": "code",
   "execution_count": 26,
   "id": "c4a225f3",
   "metadata": {},
   "outputs": [
    {
     "name": "stderr",
     "output_type": "stream",
     "text": [
      "You seem to be using the pipelines sequentially on GPU. In order to maximize efficiency please use a dataset\n"
     ]
    },
    {
     "data": {
      "text/plain": [
       "'blue'"
      ]
     },
     "execution_count": 26,
     "metadata": {},
     "output_type": "execute_result"
    }
   ],
   "source": [
    "context = \"Out of all the colors, I like blue the best.\"\n",
    "question = \"What is my favorite color?\"\n",
    "qa(context=context, question=question)[\"answer\"]"
   ]
  },
  {
   "cell_type": "code",
   "execution_count": 27,
   "id": "7484132d",
   "metadata": {},
   "outputs": [],
   "source": [
    "context = \"Albert Einstein (14 March 1879 – 18 April 1955) was a \" + \\\n",
    "  \"German-born theoretical physicist, widely acknowledged to be one of the \" + \\\n",
    "  \"greatest physicists of all time. Einstein is best known for developing \" + \\\n",
    "  \"the theory of relativity, but he also made important contributions to \" + \\\n",
    "  \"the development of the theory of quantum mechanics. Relativity and \" + \\\n",
    "  \"quantum mechanics are together the two pillars of modern physics.\""
   ]
  },
  {
   "cell_type": "code",
   "execution_count": 34,
   "id": "5e1fdd86",
   "metadata": {},
   "outputs": [
    {
     "data": {
      "text/plain": [
       "'14 March 1879'"
      ]
     },
     "execution_count": 34,
     "metadata": {},
     "output_type": "execute_result"
    }
   ],
   "source": [
    "question = \"When was Albert Einstein born?\"\n",
    "qa(context=context, question=question)[\"answer\"]"
   ]
  },
  {
   "cell_type": "code",
   "execution_count": 29,
   "id": "cb9e1263",
   "metadata": {},
   "outputs": [
    {
     "data": {
      "text/plain": [
       "'developing the theory of relativity'"
      ]
     },
     "execution_count": 29,
     "metadata": {},
     "output_type": "execute_result"
    }
   ],
   "source": [
    "question = \"What is Albert Einstein best known for?\"\n",
    "qa(context=context, question=question)[\"answer\"]"
   ]
  },
  {
   "cell_type": "code",
   "execution_count": 30,
   "id": "8967aa80",
   "metadata": {},
   "outputs": [
    {
     "data": {
      "text/plain": [
       "'theory of quantum mechanics'"
      ]
     },
     "execution_count": 30,
     "metadata": {},
     "output_type": "execute_result"
    }
   ],
   "source": [
    "question = \"What else has Albert Einstein contributed to?\"\n",
    "qa(context=context, question=question)[\"answer\"]"
   ]
  },
  {
   "cell_type": "code",
   "execution_count": 32,
   "id": "a1fb0e74",
   "metadata": {},
   "outputs": [
    {
     "data": {
      "text/plain": [
       "'German'"
      ]
     },
     "execution_count": 32,
     "metadata": {},
     "output_type": "execute_result"
    }
   ],
   "source": [
    "question = \"Where was Albert Einstein born?\"\n",
    "qa(context=context, question=question)[\"answer\"]"
   ]
  },
  {
   "cell_type": "code",
   "execution_count": 31,
   "id": "6c410c2d",
   "metadata": {},
   "outputs": [
    {
     "data": {
      "text/plain": [
       "'Albert Einstein'"
      ]
     },
     "execution_count": 31,
     "metadata": {},
     "output_type": "execute_result"
    }
   ],
   "source": [
    "question = \"What is peanut butter made of?\"\n",
    "qa(context=context, question=question)[\"answer\"]"
   ]
  },
  {
   "cell_type": "code",
   "execution_count": null,
   "id": "ce03d2f9",
   "metadata": {},
   "outputs": [],
   "source": []
  }
 ],
 "metadata": {
  "kernelspec": {
   "display_name": "Python 3 (ipykernel)",
   "language": "python",
   "name": "python3"
  },
  "language_info": {
   "codemirror_mode": {
    "name": "ipython",
    "version": 3
   },
   "file_extension": ".py",
   "mimetype": "text/x-python",
   "name": "python",
   "nbconvert_exporter": "python",
   "pygments_lexer": "ipython3",
   "version": "3.10.4"
  }
 },
 "nbformat": 4,
 "nbformat_minor": 5
}
